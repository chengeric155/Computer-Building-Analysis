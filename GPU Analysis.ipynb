{
 "cells": [
  {
   "cell_type": "code",
   "id": "initial_id",
   "metadata": {
    "collapsed": true,
    "ExecuteTime": {
     "end_time": "2024-05-25T07:41:17.323006Z",
     "start_time": "2024-05-25T07:41:17.320101Z"
    }
   },
   "source": [
    "import numpy as np\n",
    "import pandas as pd\n",
    "import plotly.express as px\n",
    "import plotly.graph_objects as go"
   ],
   "outputs": [],
   "execution_count": 65
  },
  {
   "metadata": {
    "ExecuteTime": {
     "end_time": "2024-05-25T07:00:09.519392Z",
     "start_time": "2024-05-25T07:00:09.516636Z"
    }
   },
   "cell_type": "code",
   "source": [
    "# import requests\n",
    "\n",
    "url_toms_hardware = 'https://www.tomshardware.com/reviews/gpu-hierarchy,4388.html'\n",
    "# req_toms_hardware = requests.get(url_toms_hardware)\n",
    "# req_toms_hardware"
   ],
   "id": "a6ad99eff70f2498",
   "outputs": [],
   "execution_count": 2
  },
  {
   "metadata": {
    "ExecuteTime": {
     "end_time": "2024-05-25T07:00:09.526885Z",
     "start_time": "2024-05-25T07:00:09.521384Z"
    }
   },
   "cell_type": "code",
   "source": "# print(req_toms_hardware.text[:500])",
   "id": "d2418c97cfa6a121",
   "outputs": [],
   "execution_count": 3
  },
  {
   "metadata": {
    "ExecuteTime": {
     "end_time": "2024-05-25T07:00:09.533585Z",
     "start_time": "2024-05-25T07:00:09.527881Z"
    }
   },
   "cell_type": "code",
   "source": [
    "# import bs4\n",
    "# soup = bs4.BeautifulSoup(req_toms_hardware.text, 'html.parser')"
   ],
   "id": "dbed9c79d8404b3d",
   "outputs": [],
   "execution_count": 4
  },
  {
   "metadata": {
    "ExecuteTime": {
     "end_time": "2024-05-25T07:00:09.539972Z",
     "start_time": "2024-05-25T07:00:09.534580Z"
    }
   },
   "cell_type": "code",
   "source": "# gpu_rasterization_table = soup.find('div', attrs={'id':'slice-container-table-L8SfcAV5o28ayEFjzq6cfX-10'}).find('div', class_='table__container')",
   "id": "6fa07d240ef43f52",
   "outputs": [],
   "execution_count": 5
  },
  {
   "metadata": {
    "ExecuteTime": {
     "end_time": "2024-05-25T07:00:09.546944Z",
     "start_time": "2024-05-25T07:00:09.540960Z"
    }
   },
   "cell_type": "code",
   "source": [
    "# gpu_rasterization_headers = []\n",
    "# for th in gpu_rasterization_table.find('thead').find_all('th'):\n",
    "#     gpu_rasterization_headers.append(th.text)\n",
    "# gpu_rasterization_headers"
   ],
   "id": "628128ef969b39db",
   "outputs": [],
   "execution_count": 6
  },
  {
   "metadata": {
    "ExecuteTime": {
     "end_time": "2024-05-25T07:00:09.553085Z",
     "start_time": "2024-05-25T07:00:09.547942Z"
    }
   },
   "cell_type": "code",
   "source": [
    "# gpu_rasterization_body = []\n",
    "# for tr in gpu_rasterization_table.find('tbody').find_all('tr'):\n",
    "#     cells = []\n",
    "#     for td in tr.find_all('td'):\n",
    "#         cells.append(td.text if td.text != '' else np.NaN)\n",
    "#     gpu_rasterization_body.append(cells)\n",
    "# gpu_rasterization_body[:3]"
   ],
   "id": "e036dc1787b95325",
   "outputs": [],
   "execution_count": 7
  },
  {
   "metadata": {
    "ExecuteTime": {
     "end_time": "2024-05-25T07:00:09.560711Z",
     "start_time": "2024-05-25T07:00:09.554081Z"
    }
   },
   "cell_type": "code",
   "source": [
    "# gpu_df = pd.DataFrame(gpu_rasterization_body, columns=gpu_rasterization_headers).drop('Specifications (Links to Review)', axis=1)\n",
    "# gpu_df"
   ],
   "id": "aa6758d1c0246089",
   "outputs": [],
   "execution_count": 8
  },
  {
   "metadata": {
    "ExecuteTime": {
     "end_time": "2024-05-25T07:07:27.160120Z",
     "start_time": "2024-05-25T07:07:26.868650Z"
    }
   },
   "cell_type": "code",
   "source": [
    "# could use the pd.read_html function instead of bs4\n",
    "tables = pd.read_html(url_toms_hardware)"
   ],
   "id": "ca3790c1f352f0e8",
   "outputs": [],
   "execution_count": 26
  },
  {
   "metadata": {
    "ExecuteTime": {
     "end_time": "2024-05-25T07:32:01.077102Z",
     "start_time": "2024-05-25T07:32:01.068110Z"
    }
   },
   "cell_type": "code",
   "source": [
    "gpu_rasterization_df = tables[0]\n",
    "gpu_rasterization_df.head()"
   ],
   "id": "779e2cd368fb1c3f",
   "outputs": [
    {
     "data": {
      "text/plain": [
       "            Graphics Card Lowest Price        1080p Ultra       1080p Medium  \\\n",
       "0        GeForce RTX 4090        $1849  100.0% (154.1fps)  100.0% (195.7fps)   \n",
       "1      Radeon RX 7900 XTX         $909   96.7% (149.0fps)   97.2% (190.3fps)   \n",
       "2  GeForce RTX 4080 Super         $999   96.2% (148.3fps)   98.5% (192.7fps)   \n",
       "3        GeForce RTX 4080        $1185   95.4% (147.0fps)   98.1% (192.0fps)   \n",
       "4       Radeon RX 7900 XT         $699   93.4% (143.9fps)   95.8% (187.6fps)   \n",
       "\n",
       "         1440p Ultra           4K Ultra  \\\n",
       "0  100.0% (146.1fps)  100.0% (114.5fps)   \n",
       "1   92.6% (135.3fps)    83.1% (95.1fps)   \n",
       "2   91.0% (133.0fps)    80.3% (91.9fps)   \n",
       "3   89.3% (130.4fps)    78.0% (89.3fps)   \n",
       "4   86.1% (125.9fps)    71.0% (81.2fps)   \n",
       "\n",
       "                    Specifications (Links to Review)  \n",
       "0  AD102, 16384 shaders, 2520MHz, 24GB GDDR6X@21G...  \n",
       "1  Navi 31, 6144 shaders, 2500MHz, 24GB GDDR6@20G...  \n",
       "2  AD103, 10240 shaders, 2550MHz, 16GB GDDR6X@23G...  \n",
       "3  AD103, 9728 shaders, 2505MHz, 16GB GDDR6X@22.4...  \n",
       "4  Navi 31, 5376 shaders, 2400MHz, 20GB GDDR6@20G...  "
      ],
      "text/html": [
       "<div>\n",
       "<style scoped>\n",
       "    .dataframe tbody tr th:only-of-type {\n",
       "        vertical-align: middle;\n",
       "    }\n",
       "\n",
       "    .dataframe tbody tr th {\n",
       "        vertical-align: top;\n",
       "    }\n",
       "\n",
       "    .dataframe thead th {\n",
       "        text-align: right;\n",
       "    }\n",
       "</style>\n",
       "<table border=\"1\" class=\"dataframe\">\n",
       "  <thead>\n",
       "    <tr style=\"text-align: right;\">\n",
       "      <th></th>\n",
       "      <th>Graphics Card</th>\n",
       "      <th>Lowest Price</th>\n",
       "      <th>1080p Ultra</th>\n",
       "      <th>1080p Medium</th>\n",
       "      <th>1440p Ultra</th>\n",
       "      <th>4K Ultra</th>\n",
       "      <th>Specifications (Links to Review)</th>\n",
       "    </tr>\n",
       "  </thead>\n",
       "  <tbody>\n",
       "    <tr>\n",
       "      <th>0</th>\n",
       "      <td>GeForce RTX 4090</td>\n",
       "      <td>$1849</td>\n",
       "      <td>100.0% (154.1fps)</td>\n",
       "      <td>100.0% (195.7fps)</td>\n",
       "      <td>100.0% (146.1fps)</td>\n",
       "      <td>100.0% (114.5fps)</td>\n",
       "      <td>AD102, 16384 shaders, 2520MHz, 24GB GDDR6X@21G...</td>\n",
       "    </tr>\n",
       "    <tr>\n",
       "      <th>1</th>\n",
       "      <td>Radeon RX 7900 XTX</td>\n",
       "      <td>$909</td>\n",
       "      <td>96.7% (149.0fps)</td>\n",
       "      <td>97.2% (190.3fps)</td>\n",
       "      <td>92.6% (135.3fps)</td>\n",
       "      <td>83.1% (95.1fps)</td>\n",
       "      <td>Navi 31, 6144 shaders, 2500MHz, 24GB GDDR6@20G...</td>\n",
       "    </tr>\n",
       "    <tr>\n",
       "      <th>2</th>\n",
       "      <td>GeForce RTX 4080 Super</td>\n",
       "      <td>$999</td>\n",
       "      <td>96.2% (148.3fps)</td>\n",
       "      <td>98.5% (192.7fps)</td>\n",
       "      <td>91.0% (133.0fps)</td>\n",
       "      <td>80.3% (91.9fps)</td>\n",
       "      <td>AD103, 10240 shaders, 2550MHz, 16GB GDDR6X@23G...</td>\n",
       "    </tr>\n",
       "    <tr>\n",
       "      <th>3</th>\n",
       "      <td>GeForce RTX 4080</td>\n",
       "      <td>$1185</td>\n",
       "      <td>95.4% (147.0fps)</td>\n",
       "      <td>98.1% (192.0fps)</td>\n",
       "      <td>89.3% (130.4fps)</td>\n",
       "      <td>78.0% (89.3fps)</td>\n",
       "      <td>AD103, 9728 shaders, 2505MHz, 16GB GDDR6X@22.4...</td>\n",
       "    </tr>\n",
       "    <tr>\n",
       "      <th>4</th>\n",
       "      <td>Radeon RX 7900 XT</td>\n",
       "      <td>$699</td>\n",
       "      <td>93.4% (143.9fps)</td>\n",
       "      <td>95.8% (187.6fps)</td>\n",
       "      <td>86.1% (125.9fps)</td>\n",
       "      <td>71.0% (81.2fps)</td>\n",
       "      <td>Navi 31, 5376 shaders, 2400MHz, 20GB GDDR6@20G...</td>\n",
       "    </tr>\n",
       "  </tbody>\n",
       "</table>\n",
       "</div>"
      ]
     },
     "execution_count": 55,
     "metadata": {},
     "output_type": "execute_result"
    }
   ],
   "execution_count": 55
  },
  {
   "metadata": {
    "ExecuteTime": {
     "end_time": "2024-05-25T07:32:01.413113Z",
     "start_time": "2024-05-25T07:32:01.400507Z"
    }
   },
   "cell_type": "code",
   "source": "gpu_rasterization_df.describe()",
   "id": "11687af999a3aa57",
   "outputs": [
    {
     "data": {
      "text/plain": [
       "           Graphics Card Lowest Price       1080p Ultra     1080p Medium  \\\n",
       "count                 86           44                82               86   \n",
       "unique                86           38                81               84   \n",
       "top     GeForce RTX 4090         $399  84.7% (130.5fps)  26.1% (51.1fps)   \n",
       "freq                   1            3                 2                2   \n",
       "\n",
       "            1440p Ultra           4K Ultra  \\\n",
       "count                71                 42   \n",
       "unique               70                 42   \n",
       "top     22.8% (33.3fps)  100.0% (114.5fps)   \n",
       "freq                  2                  1   \n",
       "\n",
       "                         Specifications (Links to Review)  \n",
       "count                                                  86  \n",
       "unique                                                 86  \n",
       "top     AD102, 16384 shaders, 2520MHz, 24GB GDDR6X@21G...  \n",
       "freq                                                    1  "
      ],
      "text/html": [
       "<div>\n",
       "<style scoped>\n",
       "    .dataframe tbody tr th:only-of-type {\n",
       "        vertical-align: middle;\n",
       "    }\n",
       "\n",
       "    .dataframe tbody tr th {\n",
       "        vertical-align: top;\n",
       "    }\n",
       "\n",
       "    .dataframe thead th {\n",
       "        text-align: right;\n",
       "    }\n",
       "</style>\n",
       "<table border=\"1\" class=\"dataframe\">\n",
       "  <thead>\n",
       "    <tr style=\"text-align: right;\">\n",
       "      <th></th>\n",
       "      <th>Graphics Card</th>\n",
       "      <th>Lowest Price</th>\n",
       "      <th>1080p Ultra</th>\n",
       "      <th>1080p Medium</th>\n",
       "      <th>1440p Ultra</th>\n",
       "      <th>4K Ultra</th>\n",
       "      <th>Specifications (Links to Review)</th>\n",
       "    </tr>\n",
       "  </thead>\n",
       "  <tbody>\n",
       "    <tr>\n",
       "      <th>count</th>\n",
       "      <td>86</td>\n",
       "      <td>44</td>\n",
       "      <td>82</td>\n",
       "      <td>86</td>\n",
       "      <td>71</td>\n",
       "      <td>42</td>\n",
       "      <td>86</td>\n",
       "    </tr>\n",
       "    <tr>\n",
       "      <th>unique</th>\n",
       "      <td>86</td>\n",
       "      <td>38</td>\n",
       "      <td>81</td>\n",
       "      <td>84</td>\n",
       "      <td>70</td>\n",
       "      <td>42</td>\n",
       "      <td>86</td>\n",
       "    </tr>\n",
       "    <tr>\n",
       "      <th>top</th>\n",
       "      <td>GeForce RTX 4090</td>\n",
       "      <td>$399</td>\n",
       "      <td>84.7% (130.5fps)</td>\n",
       "      <td>26.1% (51.1fps)</td>\n",
       "      <td>22.8% (33.3fps)</td>\n",
       "      <td>100.0% (114.5fps)</td>\n",
       "      <td>AD102, 16384 shaders, 2520MHz, 24GB GDDR6X@21G...</td>\n",
       "    </tr>\n",
       "    <tr>\n",
       "      <th>freq</th>\n",
       "      <td>1</td>\n",
       "      <td>3</td>\n",
       "      <td>2</td>\n",
       "      <td>2</td>\n",
       "      <td>2</td>\n",
       "      <td>1</td>\n",
       "      <td>1</td>\n",
       "    </tr>\n",
       "  </tbody>\n",
       "</table>\n",
       "</div>"
      ]
     },
     "execution_count": 56,
     "metadata": {},
     "output_type": "execute_result"
    }
   ],
   "execution_count": 56
  },
  {
   "metadata": {},
   "cell_type": "markdown",
   "source": [
    "- Some missing values in Lowest Price, 1080p Ultra, 1440p Ultra, and 4K Ultra. \n",
    "- Specifications don't mean anything to us\n",
    "- Remove the '$' from Lowest Price\n",
    "- For the resolution categories, we need to separate percentiles from raw fps"
   ],
   "id": "fb0667f1590efd3c"
  },
  {
   "metadata": {
    "ExecuteTime": {
     "end_time": "2024-05-25T07:32:13.943764Z",
     "start_time": "2024-05-25T07:32:13.929516Z"
    }
   },
   "cell_type": "code",
   "source": [
    "def price_to_float(df, column_name):\n",
    "    df[column_name] = df[column_name].str.replace('$', '').astype(float)\n",
    "    return df\n",
    "\n",
    "def get_fps(df, column_names: list[str]):\n",
    "    for column_name in column_names:\n",
    "        df[column_name] = gpu_rasterization_df[column_name].str.split(' ', expand=True)[1].str.replace(r'[^\\d.]+', '', regex=True).astype(float)\n",
    "    return df\n",
    "\n",
    "gpu_rasterization_df = (gpu_rasterization_df\n",
    "                        .drop('Specifications (Links to Review)', axis=1)\n",
    "                        .pipe(price_to_float, column_name='Lowest Price')\n",
    "                        .pipe(get_fps, column_names=['1080p Ultra', '1080p Medium', '1440p Ultra', '4K Ultra']))\n",
    "gpu_rasterization_df.head()"
   ],
   "id": "232e84b316a8cf8f",
   "outputs": [
    {
     "data": {
      "text/plain": [
       "            Graphics Card  Lowest Price  1080p Ultra  1080p Medium  \\\n",
       "0        GeForce RTX 4090        1849.0        154.1         195.7   \n",
       "1      Radeon RX 7900 XTX         909.0        149.0         190.3   \n",
       "2  GeForce RTX 4080 Super         999.0        148.3         192.7   \n",
       "3        GeForce RTX 4080        1185.0        147.0         192.0   \n",
       "4       Radeon RX 7900 XT         699.0        143.9         187.6   \n",
       "\n",
       "   1440p Ultra  4K Ultra  \n",
       "0        146.1     114.5  \n",
       "1        135.3      95.1  \n",
       "2        133.0      91.9  \n",
       "3        130.4      89.3  \n",
       "4        125.9      81.2  "
      ],
      "text/html": [
       "<div>\n",
       "<style scoped>\n",
       "    .dataframe tbody tr th:only-of-type {\n",
       "        vertical-align: middle;\n",
       "    }\n",
       "\n",
       "    .dataframe tbody tr th {\n",
       "        vertical-align: top;\n",
       "    }\n",
       "\n",
       "    .dataframe thead th {\n",
       "        text-align: right;\n",
       "    }\n",
       "</style>\n",
       "<table border=\"1\" class=\"dataframe\">\n",
       "  <thead>\n",
       "    <tr style=\"text-align: right;\">\n",
       "      <th></th>\n",
       "      <th>Graphics Card</th>\n",
       "      <th>Lowest Price</th>\n",
       "      <th>1080p Ultra</th>\n",
       "      <th>1080p Medium</th>\n",
       "      <th>1440p Ultra</th>\n",
       "      <th>4K Ultra</th>\n",
       "    </tr>\n",
       "  </thead>\n",
       "  <tbody>\n",
       "    <tr>\n",
       "      <th>0</th>\n",
       "      <td>GeForce RTX 4090</td>\n",
       "      <td>1849.0</td>\n",
       "      <td>154.1</td>\n",
       "      <td>195.7</td>\n",
       "      <td>146.1</td>\n",
       "      <td>114.5</td>\n",
       "    </tr>\n",
       "    <tr>\n",
       "      <th>1</th>\n",
       "      <td>Radeon RX 7900 XTX</td>\n",
       "      <td>909.0</td>\n",
       "      <td>149.0</td>\n",
       "      <td>190.3</td>\n",
       "      <td>135.3</td>\n",
       "      <td>95.1</td>\n",
       "    </tr>\n",
       "    <tr>\n",
       "      <th>2</th>\n",
       "      <td>GeForce RTX 4080 Super</td>\n",
       "      <td>999.0</td>\n",
       "      <td>148.3</td>\n",
       "      <td>192.7</td>\n",
       "      <td>133.0</td>\n",
       "      <td>91.9</td>\n",
       "    </tr>\n",
       "    <tr>\n",
       "      <th>3</th>\n",
       "      <td>GeForce RTX 4080</td>\n",
       "      <td>1185.0</td>\n",
       "      <td>147.0</td>\n",
       "      <td>192.0</td>\n",
       "      <td>130.4</td>\n",
       "      <td>89.3</td>\n",
       "    </tr>\n",
       "    <tr>\n",
       "      <th>4</th>\n",
       "      <td>Radeon RX 7900 XT</td>\n",
       "      <td>699.0</td>\n",
       "      <td>143.9</td>\n",
       "      <td>187.6</td>\n",
       "      <td>125.9</td>\n",
       "      <td>81.2</td>\n",
       "    </tr>\n",
       "  </tbody>\n",
       "</table>\n",
       "</div>"
      ]
     },
     "execution_count": 59,
     "metadata": {},
     "output_type": "execute_result"
    }
   ],
   "execution_count": 59
  },
  {
   "metadata": {
    "ExecuteTime": {
     "end_time": "2024-05-25T07:54:14.690664Z",
     "start_time": "2024-05-25T07:54:14.654234Z"
    }
   },
   "cell_type": "code",
   "source": [
    "px.scatter(gpu_rasterization_df,\n",
    "           x= 'Lowest Price',\n",
    "           y= '1080p Ultra',\n",
    "           hover_name='Graphics Card',\n",
    "           title='GPU Rasterization For 1080p Ultra')"
   ],
   "id": "1d33ec121eceb563",
   "outputs": [
    {
     "data": {
      "application/vnd.plotly.v1+json": {
       "data": [
        {
         "hovertemplate": "<b>%{hovertext}</b><br><br>Lowest Price=%{x}<br>1080p Ultra=%{y}<extra></extra>",
         "hovertext": [
          "GeForce RTX 4090",
          "Radeon RX 7900 XTX",
          "GeForce RTX 4080 Super",
          "GeForce RTX 4080",
          "Radeon RX 7900 XT",
          "GeForce RTX 4070 Ti Super",
          "GeForce RTX 4070 Ti",
          "Radeon RX 7900 GRE",
          "GeForce RTX 4070 Super",
          "Radeon RX 6950 XT",
          "GeForce RTX 3090 Ti",
          "Radeon RX 7800 XT",
          "GeForce RTX 3090",
          "Radeon RX 6900 XT",
          "GeForce RTX 3080 Ti",
          "Radeon RX 6800 XT",
          "GeForce RTX 3080 12GB",
          "GeForce RTX 4070",
          "GeForce RTX 3080",
          "Radeon RX 7700 XT",
          "Radeon RX 6800",
          "GeForce RTX 3070 Ti",
          "Radeon RX 6750 XT",
          "GeForce RTX 4060 Ti 16GB",
          "GeForce RTX 4060 Ti",
          "Titan RTX",
          "Radeon RX 6700 XT",
          "GeForce RTX 3070",
          "GeForce RTX 2080 Ti",
          "Radeon RX 7600 XT",
          "GeForce RTX 3060 Ti",
          "Radeon RX 6700 10GB",
          "GeForce RTX 2080 Super",
          "GeForce RTX 4060",
          "GeForce RTX 2080",
          "Radeon RX 7600",
          "Radeon RX 6650 XT",
          "GeForce RTX 2070 Super",
          "Intel Arc A770 16GB",
          "Intel Arc A770 8GB",
          "Radeon RX 6600 XT",
          "Radeon RX 5700 XT",
          "GeForce RTX 3060",
          "Intel Arc A750",
          "GeForce RTX 2070",
          "Radeon VII",
          "GeForce GTX 1080 Ti",
          "GeForce RTX 2060 Super",
          "Radeon RX 6600",
          "Intel Arc A580",
          "Radeon RX 5700",
          "Radeon RX 5600 XT",
          "Radeon RX Vega 64",
          "GeForce RTX 2060",
          "GeForce GTX 1080",
          "GeForce RTX 3050",
          "GeForce GTX 1070 Ti",
          "Radeon RX Vega 56",
          "GeForce GTX 1660 Super",
          "GeForce GTX 1660 Ti",
          "GeForce GTX 1070",
          "GeForce GTX 1660",
          "Radeon RX 5500 XT 8GB",
          "Radeon RX 590",
          "GeForce GTX 980 Ti",
          "Radeon RX 580 8GB",
          "Radeon R9 Fury X",
          "GeForce GTX 1650 Super",
          "Radeon RX 5500 XT 4GB",
          "GeForce GTX 1060 6GB",
          "Radeon RX 6500 XT",
          "Radeon R9 390",
          "GeForce GTX 980",
          "GeForce GTX 1650 GDDR6",
          "Intel Arc A380",
          "Radeon RX 570 4GB",
          "GeForce GTX 1650",
          "GeForce GTX 970",
          "Radeon RX 6400",
          "GeForce GTX 1050 Ti",
          "GeForce GTX 1060 3GB",
          "GeForce GTX 1630",
          "Radeon RX 560 4GB",
          "GeForce GTX 1050",
          "Radeon RX 550 4GB",
          "GeForce GT 1030"
         ],
         "legendgroup": "",
         "marker": {
          "color": "#636efa",
          "symbol": "circle"
         },
         "mode": "markers",
         "name": "",
         "orientation": "v",
         "showlegend": false,
         "x": [
          1849.0,
          909.0,
          999.0,
          1185.0,
          699.0,
          799.0,
          699.0,
          549.0,
          589.0,
          579.0,
          1739.0,
          509.0,
          1279.0,
          779.0,
          1089.0,
          459.0,
          999.0,
          539.0,
          879.0,
          449.0,
          399.0,
          599.0,
          359.0,
          429.0,
          374.0,
          null,
          339.0,
          399.0,
          null,
          319.0,
          449.0,
          269.0,
          null,
          294.0,
          null,
          269.0,
          229.0,
          null,
          289.0,
          343.0,
          399.0,
          null,
          299.0,
          239.0,
          null,
          null,
          null,
          null,
          199.0,
          169.0,
          null,
          null,
          null,
          null,
          null,
          224.0,
          null,
          null,
          null,
          null,
          null,
          null,
          null,
          null,
          null,
          null,
          null,
          null,
          null,
          null,
          159.0,
          null,
          null,
          null,
          119.0,
          null,
          null,
          null,
          124.0,
          null,
          null,
          null,
          null,
          null,
          null,
          null
         ],
         "xaxis": "x",
         "y": [
          154.1,
          149.0,
          148.3,
          147.0,
          143.9,
          142.3,
          138.3,
          135.8,
          134.2,
          130.5,
          130.5,
          129.3,
          125.5,
          124.6,
          123.9,
          122.7,
          122.1,
          122.0,
          117.0,
          116.1,
          114.6,
          104.0,
          102.9,
          100.6,
          100.4,
          99.3,
          99.1,
          98.8,
          96.3,
          91.9,
          90.7,
          86.1,
          86.0,
          84.9,
          82.5,
          82.0,
          77.7,
          77.4,
          76.9,
          75.3,
          74.7,
          73.3,
          72.3,
          70.8,
          69.8,
          69.5,
          66.4,
          65.5,
          65.2,
          65.1,
          64.5,
          57.8,
          56.7,
          55.5,
          53.0,
          51.9,
          51.1,
          50.6,
          46.8,
          46.6,
          44.7,
          42.6,
          39.7,
          39.3,
          35.9,
          35.3,
          35.2,
          33.9,
          33.3,
          32.1,
          30.6,
          29.8,
          28.9,
          28.8,
          28.4,
          28.1,
          27.0,
          26.5,
          24.1,
          19.8,
          null,
          16.9,
          14.7,
          null,
          null,
          null
         ],
         "yaxis": "y",
         "type": "scatter"
        }
       ],
       "layout": {
        "template": {
         "data": {
          "histogram2dcontour": [
           {
            "type": "histogram2dcontour",
            "colorbar": {
             "outlinewidth": 0,
             "ticks": ""
            },
            "colorscale": [
             [
              0.0,
              "#0d0887"
             ],
             [
              0.1111111111111111,
              "#46039f"
             ],
             [
              0.2222222222222222,
              "#7201a8"
             ],
             [
              0.3333333333333333,
              "#9c179e"
             ],
             [
              0.4444444444444444,
              "#bd3786"
             ],
             [
              0.5555555555555556,
              "#d8576b"
             ],
             [
              0.6666666666666666,
              "#ed7953"
             ],
             [
              0.7777777777777778,
              "#fb9f3a"
             ],
             [
              0.8888888888888888,
              "#fdca26"
             ],
             [
              1.0,
              "#f0f921"
             ]
            ]
           }
          ],
          "choropleth": [
           {
            "type": "choropleth",
            "colorbar": {
             "outlinewidth": 0,
             "ticks": ""
            }
           }
          ],
          "histogram2d": [
           {
            "type": "histogram2d",
            "colorbar": {
             "outlinewidth": 0,
             "ticks": ""
            },
            "colorscale": [
             [
              0.0,
              "#0d0887"
             ],
             [
              0.1111111111111111,
              "#46039f"
             ],
             [
              0.2222222222222222,
              "#7201a8"
             ],
             [
              0.3333333333333333,
              "#9c179e"
             ],
             [
              0.4444444444444444,
              "#bd3786"
             ],
             [
              0.5555555555555556,
              "#d8576b"
             ],
             [
              0.6666666666666666,
              "#ed7953"
             ],
             [
              0.7777777777777778,
              "#fb9f3a"
             ],
             [
              0.8888888888888888,
              "#fdca26"
             ],
             [
              1.0,
              "#f0f921"
             ]
            ]
           }
          ],
          "heatmap": [
           {
            "type": "heatmap",
            "colorbar": {
             "outlinewidth": 0,
             "ticks": ""
            },
            "colorscale": [
             [
              0.0,
              "#0d0887"
             ],
             [
              0.1111111111111111,
              "#46039f"
             ],
             [
              0.2222222222222222,
              "#7201a8"
             ],
             [
              0.3333333333333333,
              "#9c179e"
             ],
             [
              0.4444444444444444,
              "#bd3786"
             ],
             [
              0.5555555555555556,
              "#d8576b"
             ],
             [
              0.6666666666666666,
              "#ed7953"
             ],
             [
              0.7777777777777778,
              "#fb9f3a"
             ],
             [
              0.8888888888888888,
              "#fdca26"
             ],
             [
              1.0,
              "#f0f921"
             ]
            ]
           }
          ],
          "heatmapgl": [
           {
            "type": "heatmapgl",
            "colorbar": {
             "outlinewidth": 0,
             "ticks": ""
            },
            "colorscale": [
             [
              0.0,
              "#0d0887"
             ],
             [
              0.1111111111111111,
              "#46039f"
             ],
             [
              0.2222222222222222,
              "#7201a8"
             ],
             [
              0.3333333333333333,
              "#9c179e"
             ],
             [
              0.4444444444444444,
              "#bd3786"
             ],
             [
              0.5555555555555556,
              "#d8576b"
             ],
             [
              0.6666666666666666,
              "#ed7953"
             ],
             [
              0.7777777777777778,
              "#fb9f3a"
             ],
             [
              0.8888888888888888,
              "#fdca26"
             ],
             [
              1.0,
              "#f0f921"
             ]
            ]
           }
          ],
          "contourcarpet": [
           {
            "type": "contourcarpet",
            "colorbar": {
             "outlinewidth": 0,
             "ticks": ""
            }
           }
          ],
          "contour": [
           {
            "type": "contour",
            "colorbar": {
             "outlinewidth": 0,
             "ticks": ""
            },
            "colorscale": [
             [
              0.0,
              "#0d0887"
             ],
             [
              0.1111111111111111,
              "#46039f"
             ],
             [
              0.2222222222222222,
              "#7201a8"
             ],
             [
              0.3333333333333333,
              "#9c179e"
             ],
             [
              0.4444444444444444,
              "#bd3786"
             ],
             [
              0.5555555555555556,
              "#d8576b"
             ],
             [
              0.6666666666666666,
              "#ed7953"
             ],
             [
              0.7777777777777778,
              "#fb9f3a"
             ],
             [
              0.8888888888888888,
              "#fdca26"
             ],
             [
              1.0,
              "#f0f921"
             ]
            ]
           }
          ],
          "surface": [
           {
            "type": "surface",
            "colorbar": {
             "outlinewidth": 0,
             "ticks": ""
            },
            "colorscale": [
             [
              0.0,
              "#0d0887"
             ],
             [
              0.1111111111111111,
              "#46039f"
             ],
             [
              0.2222222222222222,
              "#7201a8"
             ],
             [
              0.3333333333333333,
              "#9c179e"
             ],
             [
              0.4444444444444444,
              "#bd3786"
             ],
             [
              0.5555555555555556,
              "#d8576b"
             ],
             [
              0.6666666666666666,
              "#ed7953"
             ],
             [
              0.7777777777777778,
              "#fb9f3a"
             ],
             [
              0.8888888888888888,
              "#fdca26"
             ],
             [
              1.0,
              "#f0f921"
             ]
            ]
           }
          ],
          "mesh3d": [
           {
            "type": "mesh3d",
            "colorbar": {
             "outlinewidth": 0,
             "ticks": ""
            }
           }
          ],
          "scatter": [
           {
            "marker": {
             "line": {
              "color": "#283442"
             }
            },
            "type": "scatter"
           }
          ],
          "parcoords": [
           {
            "type": "parcoords",
            "line": {
             "colorbar": {
              "outlinewidth": 0,
              "ticks": ""
             }
            }
           }
          ],
          "scatterpolargl": [
           {
            "type": "scatterpolargl",
            "marker": {
             "colorbar": {
              "outlinewidth": 0,
              "ticks": ""
             }
            }
           }
          ],
          "bar": [
           {
            "error_x": {
             "color": "#f2f5fa"
            },
            "error_y": {
             "color": "#f2f5fa"
            },
            "marker": {
             "line": {
              "color": "rgb(17,17,17)",
              "width": 0.5
             },
             "pattern": {
              "fillmode": "overlay",
              "size": 10,
              "solidity": 0.2
             }
            },
            "type": "bar"
           }
          ],
          "scattergeo": [
           {
            "type": "scattergeo",
            "marker": {
             "colorbar": {
              "outlinewidth": 0,
              "ticks": ""
             }
            }
           }
          ],
          "scatterpolar": [
           {
            "type": "scatterpolar",
            "marker": {
             "colorbar": {
              "outlinewidth": 0,
              "ticks": ""
             }
            }
           }
          ],
          "histogram": [
           {
            "marker": {
             "pattern": {
              "fillmode": "overlay",
              "size": 10,
              "solidity": 0.2
             }
            },
            "type": "histogram"
           }
          ],
          "scattergl": [
           {
            "marker": {
             "line": {
              "color": "#283442"
             }
            },
            "type": "scattergl"
           }
          ],
          "scatter3d": [
           {
            "type": "scatter3d",
            "line": {
             "colorbar": {
              "outlinewidth": 0,
              "ticks": ""
             }
            },
            "marker": {
             "colorbar": {
              "outlinewidth": 0,
              "ticks": ""
             }
            }
           }
          ],
          "scattermapbox": [
           {
            "type": "scattermapbox",
            "marker": {
             "colorbar": {
              "outlinewidth": 0,
              "ticks": ""
             }
            }
           }
          ],
          "scatterternary": [
           {
            "type": "scatterternary",
            "marker": {
             "colorbar": {
              "outlinewidth": 0,
              "ticks": ""
             }
            }
           }
          ],
          "scattercarpet": [
           {
            "type": "scattercarpet",
            "marker": {
             "colorbar": {
              "outlinewidth": 0,
              "ticks": ""
             }
            }
           }
          ],
          "carpet": [
           {
            "aaxis": {
             "endlinecolor": "#A2B1C6",
             "gridcolor": "#506784",
             "linecolor": "#506784",
             "minorgridcolor": "#506784",
             "startlinecolor": "#A2B1C6"
            },
            "baxis": {
             "endlinecolor": "#A2B1C6",
             "gridcolor": "#506784",
             "linecolor": "#506784",
             "minorgridcolor": "#506784",
             "startlinecolor": "#A2B1C6"
            },
            "type": "carpet"
           }
          ],
          "table": [
           {
            "cells": {
             "fill": {
              "color": "#506784"
             },
             "line": {
              "color": "rgb(17,17,17)"
             }
            },
            "header": {
             "fill": {
              "color": "#2a3f5f"
             },
             "line": {
              "color": "rgb(17,17,17)"
             }
            },
            "type": "table"
           }
          ],
          "barpolar": [
           {
            "marker": {
             "line": {
              "color": "rgb(17,17,17)",
              "width": 0.5
             },
             "pattern": {
              "fillmode": "overlay",
              "size": 10,
              "solidity": 0.2
             }
            },
            "type": "barpolar"
           }
          ],
          "pie": [
           {
            "automargin": true,
            "type": "pie"
           }
          ]
         },
         "layout": {
          "autotypenumbers": "strict",
          "colorway": [
           "#636efa",
           "#EF553B",
           "#00cc96",
           "#ab63fa",
           "#FFA15A",
           "#19d3f3",
           "#FF6692",
           "#B6E880",
           "#FF97FF",
           "#FECB52"
          ],
          "font": {
           "color": "#f2f5fa"
          },
          "hovermode": "closest",
          "hoverlabel": {
           "align": "left"
          },
          "paper_bgcolor": "rgb(17,17,17)",
          "plot_bgcolor": "rgb(17,17,17)",
          "polar": {
           "bgcolor": "rgb(17,17,17)",
           "angularaxis": {
            "gridcolor": "#506784",
            "linecolor": "#506784",
            "ticks": ""
           },
           "radialaxis": {
            "gridcolor": "#506784",
            "linecolor": "#506784",
            "ticks": ""
           }
          },
          "ternary": {
           "bgcolor": "rgb(17,17,17)",
           "aaxis": {
            "gridcolor": "#506784",
            "linecolor": "#506784",
            "ticks": ""
           },
           "baxis": {
            "gridcolor": "#506784",
            "linecolor": "#506784",
            "ticks": ""
           },
           "caxis": {
            "gridcolor": "#506784",
            "linecolor": "#506784",
            "ticks": ""
           }
          },
          "coloraxis": {
           "colorbar": {
            "outlinewidth": 0,
            "ticks": ""
           }
          },
          "colorscale": {
           "sequential": [
            [
             0.0,
             "#0d0887"
            ],
            [
             0.1111111111111111,
             "#46039f"
            ],
            [
             0.2222222222222222,
             "#7201a8"
            ],
            [
             0.3333333333333333,
             "#9c179e"
            ],
            [
             0.4444444444444444,
             "#bd3786"
            ],
            [
             0.5555555555555556,
             "#d8576b"
            ],
            [
             0.6666666666666666,
             "#ed7953"
            ],
            [
             0.7777777777777778,
             "#fb9f3a"
            ],
            [
             0.8888888888888888,
             "#fdca26"
            ],
            [
             1.0,
             "#f0f921"
            ]
           ],
           "sequentialminus": [
            [
             0.0,
             "#0d0887"
            ],
            [
             0.1111111111111111,
             "#46039f"
            ],
            [
             0.2222222222222222,
             "#7201a8"
            ],
            [
             0.3333333333333333,
             "#9c179e"
            ],
            [
             0.4444444444444444,
             "#bd3786"
            ],
            [
             0.5555555555555556,
             "#d8576b"
            ],
            [
             0.6666666666666666,
             "#ed7953"
            ],
            [
             0.7777777777777778,
             "#fb9f3a"
            ],
            [
             0.8888888888888888,
             "#fdca26"
            ],
            [
             1.0,
             "#f0f921"
            ]
           ],
           "diverging": [
            [
             0,
             "#8e0152"
            ],
            [
             0.1,
             "#c51b7d"
            ],
            [
             0.2,
             "#de77ae"
            ],
            [
             0.3,
             "#f1b6da"
            ],
            [
             0.4,
             "#fde0ef"
            ],
            [
             0.5,
             "#f7f7f7"
            ],
            [
             0.6,
             "#e6f5d0"
            ],
            [
             0.7,
             "#b8e186"
            ],
            [
             0.8,
             "#7fbc41"
            ],
            [
             0.9,
             "#4d9221"
            ],
            [
             1,
             "#276419"
            ]
           ]
          },
          "xaxis": {
           "gridcolor": "#283442",
           "linecolor": "#506784",
           "ticks": "",
           "title": {
            "standoff": 15
           },
           "zerolinecolor": "#283442",
           "automargin": true,
           "zerolinewidth": 2
          },
          "yaxis": {
           "gridcolor": "#283442",
           "linecolor": "#506784",
           "ticks": "",
           "title": {
            "standoff": 15
           },
           "zerolinecolor": "#283442",
           "automargin": true,
           "zerolinewidth": 2
          },
          "scene": {
           "xaxis": {
            "backgroundcolor": "rgb(17,17,17)",
            "gridcolor": "#506784",
            "linecolor": "#506784",
            "showbackground": true,
            "ticks": "",
            "zerolinecolor": "#C8D4E3",
            "gridwidth": 2
           },
           "yaxis": {
            "backgroundcolor": "rgb(17,17,17)",
            "gridcolor": "#506784",
            "linecolor": "#506784",
            "showbackground": true,
            "ticks": "",
            "zerolinecolor": "#C8D4E3",
            "gridwidth": 2
           },
           "zaxis": {
            "backgroundcolor": "rgb(17,17,17)",
            "gridcolor": "#506784",
            "linecolor": "#506784",
            "showbackground": true,
            "ticks": "",
            "zerolinecolor": "#C8D4E3",
            "gridwidth": 2
           }
          },
          "shapedefaults": {
           "line": {
            "color": "#f2f5fa"
           }
          },
          "annotationdefaults": {
           "arrowcolor": "#f2f5fa",
           "arrowhead": 0,
           "arrowwidth": 1
          },
          "geo": {
           "bgcolor": "rgb(17,17,17)",
           "landcolor": "rgb(17,17,17)",
           "subunitcolor": "#506784",
           "showland": true,
           "showlakes": true,
           "lakecolor": "rgb(17,17,17)"
          },
          "title": {
           "x": 0.05
          },
          "updatemenudefaults": {
           "bgcolor": "#506784",
           "borderwidth": 0
          },
          "sliderdefaults": {
           "bgcolor": "#C8D4E3",
           "borderwidth": 1,
           "bordercolor": "rgb(17,17,17)",
           "tickwidth": 0
          },
          "mapbox": {
           "style": "dark"
          }
         }
        },
        "xaxis": {
         "anchor": "y",
         "domain": [
          0.0,
          1.0
         ],
         "title": {
          "text": "Lowest Price"
         }
        },
        "yaxis": {
         "anchor": "x",
         "domain": [
          0.0,
          1.0
         ],
         "title": {
          "text": "1080p Ultra"
         }
        },
        "legend": {
         "tracegroupgap": 0
        },
        "title": {
         "text": "GPU Rasterization For 1080p Ultra"
        }
       },
       "config": {
        "plotlyServerURL": "https://plot.ly"
       }
      },
      "text/html": [
       "<div>                            <div id=\"1033d390-51a5-4379-bc62-cc4cd46b8a76\" class=\"plotly-graph-div\" style=\"height:525px; width:100%;\"></div>            <script type=\"text/javascript\">                require([\"plotly\"], function(Plotly) {                    window.PLOTLYENV=window.PLOTLYENV || {};                                    if (document.getElementById(\"1033d390-51a5-4379-bc62-cc4cd46b8a76\")) {                    Plotly.newPlot(                        \"1033d390-51a5-4379-bc62-cc4cd46b8a76\",                        [{\"hovertemplate\":\"\\u003cb\\u003e%{hovertext}\\u003c\\u002fb\\u003e\\u003cbr\\u003e\\u003cbr\\u003eLowest Price=%{x}\\u003cbr\\u003e1080p Ultra=%{y}\\u003cextra\\u003e\\u003c\\u002fextra\\u003e\",\"hovertext\":[\"GeForce RTX 4090\",\"Radeon RX 7900 XTX\",\"GeForce RTX 4080 Super\",\"GeForce RTX 4080\",\"Radeon RX 7900 XT\",\"GeForce RTX 4070 Ti Super\",\"GeForce RTX 4070 Ti\",\"Radeon RX 7900 GRE\",\"GeForce RTX 4070 Super\",\"Radeon RX 6950 XT\",\"GeForce RTX 3090 Ti\",\"Radeon RX 7800 XT\",\"GeForce RTX 3090\",\"Radeon RX 6900 XT\",\"GeForce RTX 3080 Ti\",\"Radeon RX 6800 XT\",\"GeForce RTX 3080 12GB\",\"GeForce RTX 4070\",\"GeForce RTX 3080\",\"Radeon RX 7700 XT\",\"Radeon RX 6800\",\"GeForce RTX 3070 Ti\",\"Radeon RX 6750 XT\",\"GeForce RTX 4060 Ti 16GB\",\"GeForce RTX 4060 Ti\",\"Titan RTX\",\"Radeon RX 6700 XT\",\"GeForce RTX 3070\",\"GeForce RTX 2080 Ti\",\"Radeon RX 7600 XT\",\"GeForce RTX 3060 Ti\",\"Radeon RX 6700 10GB\",\"GeForce RTX 2080 Super\",\"GeForce RTX 4060\",\"GeForce RTX 2080\",\"Radeon RX 7600\",\"Radeon RX 6650 XT\",\"GeForce RTX 2070 Super\",\"Intel Arc A770 16GB\",\"Intel Arc A770 8GB\",\"Radeon RX 6600 XT\",\"Radeon RX 5700 XT\",\"GeForce RTX 3060\",\"Intel Arc A750\",\"GeForce RTX 2070\",\"Radeon VII\",\"GeForce GTX 1080 Ti\",\"GeForce RTX 2060 Super\",\"Radeon RX 6600\",\"Intel Arc A580\",\"Radeon RX 5700\",\"Radeon RX 5600 XT\",\"Radeon RX Vega 64\",\"GeForce RTX 2060\",\"GeForce GTX 1080\",\"GeForce RTX 3050\",\"GeForce GTX 1070 Ti\",\"Radeon RX Vega 56\",\"GeForce GTX 1660 Super\",\"GeForce GTX 1660 Ti\",\"GeForce GTX 1070\",\"GeForce GTX 1660\",\"Radeon RX 5500 XT 8GB\",\"Radeon RX 590\",\"GeForce GTX 980 Ti\",\"Radeon RX 580 8GB\",\"Radeon R9 Fury X\",\"GeForce GTX 1650 Super\",\"Radeon RX 5500 XT 4GB\",\"GeForce GTX 1060 6GB\",\"Radeon RX 6500 XT\",\"Radeon R9 390\",\"GeForce GTX 980\",\"GeForce GTX 1650 GDDR6\",\"Intel Arc A380\",\"Radeon RX 570 4GB\",\"GeForce GTX 1650\",\"GeForce GTX 970\",\"Radeon RX 6400\",\"GeForce GTX 1050 Ti\",\"GeForce GTX 1060 3GB\",\"GeForce GTX 1630\",\"Radeon RX 560 4GB\",\"GeForce GTX 1050\",\"Radeon RX 550 4GB\",\"GeForce GT 1030\"],\"legendgroup\":\"\",\"marker\":{\"color\":\"#636efa\",\"symbol\":\"circle\"},\"mode\":\"markers\",\"name\":\"\",\"orientation\":\"v\",\"showlegend\":false,\"x\":[1849.0,909.0,999.0,1185.0,699.0,799.0,699.0,549.0,589.0,579.0,1739.0,509.0,1279.0,779.0,1089.0,459.0,999.0,539.0,879.0,449.0,399.0,599.0,359.0,429.0,374.0,null,339.0,399.0,null,319.0,449.0,269.0,null,294.0,null,269.0,229.0,null,289.0,343.0,399.0,null,299.0,239.0,null,null,null,null,199.0,169.0,null,null,null,null,null,224.0,null,null,null,null,null,null,null,null,null,null,null,null,null,null,159.0,null,null,null,119.0,null,null,null,124.0,null,null,null,null,null,null,null],\"xaxis\":\"x\",\"y\":[154.1,149.0,148.3,147.0,143.9,142.3,138.3,135.8,134.2,130.5,130.5,129.3,125.5,124.6,123.9,122.7,122.1,122.0,117.0,116.1,114.6,104.0,102.9,100.6,100.4,99.3,99.1,98.8,96.3,91.9,90.7,86.1,86.0,84.9,82.5,82.0,77.7,77.4,76.9,75.3,74.7,73.3,72.3,70.8,69.8,69.5,66.4,65.5,65.2,65.1,64.5,57.8,56.7,55.5,53.0,51.9,51.1,50.6,46.8,46.6,44.7,42.6,39.7,39.3,35.9,35.3,35.2,33.9,33.3,32.1,30.6,29.8,28.9,28.8,28.4,28.1,27.0,26.5,24.1,19.8,null,16.9,14.7,null,null,null],\"yaxis\":\"y\",\"type\":\"scatter\"}],                        {\"template\":{\"data\":{\"histogram2dcontour\":[{\"type\":\"histogram2dcontour\",\"colorbar\":{\"outlinewidth\":0,\"ticks\":\"\"},\"colorscale\":[[0.0,\"#0d0887\"],[0.1111111111111111,\"#46039f\"],[0.2222222222222222,\"#7201a8\"],[0.3333333333333333,\"#9c179e\"],[0.4444444444444444,\"#bd3786\"],[0.5555555555555556,\"#d8576b\"],[0.6666666666666666,\"#ed7953\"],[0.7777777777777778,\"#fb9f3a\"],[0.8888888888888888,\"#fdca26\"],[1.0,\"#f0f921\"]]}],\"choropleth\":[{\"type\":\"choropleth\",\"colorbar\":{\"outlinewidth\":0,\"ticks\":\"\"}}],\"histogram2d\":[{\"type\":\"histogram2d\",\"colorbar\":{\"outlinewidth\":0,\"ticks\":\"\"},\"colorscale\":[[0.0,\"#0d0887\"],[0.1111111111111111,\"#46039f\"],[0.2222222222222222,\"#7201a8\"],[0.3333333333333333,\"#9c179e\"],[0.4444444444444444,\"#bd3786\"],[0.5555555555555556,\"#d8576b\"],[0.6666666666666666,\"#ed7953\"],[0.7777777777777778,\"#fb9f3a\"],[0.8888888888888888,\"#fdca26\"],[1.0,\"#f0f921\"]]}],\"heatmap\":[{\"type\":\"heatmap\",\"colorbar\":{\"outlinewidth\":0,\"ticks\":\"\"},\"colorscale\":[[0.0,\"#0d0887\"],[0.1111111111111111,\"#46039f\"],[0.2222222222222222,\"#7201a8\"],[0.3333333333333333,\"#9c179e\"],[0.4444444444444444,\"#bd3786\"],[0.5555555555555556,\"#d8576b\"],[0.6666666666666666,\"#ed7953\"],[0.7777777777777778,\"#fb9f3a\"],[0.8888888888888888,\"#fdca26\"],[1.0,\"#f0f921\"]]}],\"heatmapgl\":[{\"type\":\"heatmapgl\",\"colorbar\":{\"outlinewidth\":0,\"ticks\":\"\"},\"colorscale\":[[0.0,\"#0d0887\"],[0.1111111111111111,\"#46039f\"],[0.2222222222222222,\"#7201a8\"],[0.3333333333333333,\"#9c179e\"],[0.4444444444444444,\"#bd3786\"],[0.5555555555555556,\"#d8576b\"],[0.6666666666666666,\"#ed7953\"],[0.7777777777777778,\"#fb9f3a\"],[0.8888888888888888,\"#fdca26\"],[1.0,\"#f0f921\"]]}],\"contourcarpet\":[{\"type\":\"contourcarpet\",\"colorbar\":{\"outlinewidth\":0,\"ticks\":\"\"}}],\"contour\":[{\"type\":\"contour\",\"colorbar\":{\"outlinewidth\":0,\"ticks\":\"\"},\"colorscale\":[[0.0,\"#0d0887\"],[0.1111111111111111,\"#46039f\"],[0.2222222222222222,\"#7201a8\"],[0.3333333333333333,\"#9c179e\"],[0.4444444444444444,\"#bd3786\"],[0.5555555555555556,\"#d8576b\"],[0.6666666666666666,\"#ed7953\"],[0.7777777777777778,\"#fb9f3a\"],[0.8888888888888888,\"#fdca26\"],[1.0,\"#f0f921\"]]}],\"surface\":[{\"type\":\"surface\",\"colorbar\":{\"outlinewidth\":0,\"ticks\":\"\"},\"colorscale\":[[0.0,\"#0d0887\"],[0.1111111111111111,\"#46039f\"],[0.2222222222222222,\"#7201a8\"],[0.3333333333333333,\"#9c179e\"],[0.4444444444444444,\"#bd3786\"],[0.5555555555555556,\"#d8576b\"],[0.6666666666666666,\"#ed7953\"],[0.7777777777777778,\"#fb9f3a\"],[0.8888888888888888,\"#fdca26\"],[1.0,\"#f0f921\"]]}],\"mesh3d\":[{\"type\":\"mesh3d\",\"colorbar\":{\"outlinewidth\":0,\"ticks\":\"\"}}],\"scatter\":[{\"marker\":{\"line\":{\"color\":\"#283442\"}},\"type\":\"scatter\"}],\"parcoords\":[{\"type\":\"parcoords\",\"line\":{\"colorbar\":{\"outlinewidth\":0,\"ticks\":\"\"}}}],\"scatterpolargl\":[{\"type\":\"scatterpolargl\",\"marker\":{\"colorbar\":{\"outlinewidth\":0,\"ticks\":\"\"}}}],\"bar\":[{\"error_x\":{\"color\":\"#f2f5fa\"},\"error_y\":{\"color\":\"#f2f5fa\"},\"marker\":{\"line\":{\"color\":\"rgb(17,17,17)\",\"width\":0.5},\"pattern\":{\"fillmode\":\"overlay\",\"size\":10,\"solidity\":0.2}},\"type\":\"bar\"}],\"scattergeo\":[{\"type\":\"scattergeo\",\"marker\":{\"colorbar\":{\"outlinewidth\":0,\"ticks\":\"\"}}}],\"scatterpolar\":[{\"type\":\"scatterpolar\",\"marker\":{\"colorbar\":{\"outlinewidth\":0,\"ticks\":\"\"}}}],\"histogram\":[{\"marker\":{\"pattern\":{\"fillmode\":\"overlay\",\"size\":10,\"solidity\":0.2}},\"type\":\"histogram\"}],\"scattergl\":[{\"marker\":{\"line\":{\"color\":\"#283442\"}},\"type\":\"scattergl\"}],\"scatter3d\":[{\"type\":\"scatter3d\",\"line\":{\"colorbar\":{\"outlinewidth\":0,\"ticks\":\"\"}},\"marker\":{\"colorbar\":{\"outlinewidth\":0,\"ticks\":\"\"}}}],\"scattermapbox\":[{\"type\":\"scattermapbox\",\"marker\":{\"colorbar\":{\"outlinewidth\":0,\"ticks\":\"\"}}}],\"scatterternary\":[{\"type\":\"scatterternary\",\"marker\":{\"colorbar\":{\"outlinewidth\":0,\"ticks\":\"\"}}}],\"scattercarpet\":[{\"type\":\"scattercarpet\",\"marker\":{\"colorbar\":{\"outlinewidth\":0,\"ticks\":\"\"}}}],\"carpet\":[{\"aaxis\":{\"endlinecolor\":\"#A2B1C6\",\"gridcolor\":\"#506784\",\"linecolor\":\"#506784\",\"minorgridcolor\":\"#506784\",\"startlinecolor\":\"#A2B1C6\"},\"baxis\":{\"endlinecolor\":\"#A2B1C6\",\"gridcolor\":\"#506784\",\"linecolor\":\"#506784\",\"minorgridcolor\":\"#506784\",\"startlinecolor\":\"#A2B1C6\"},\"type\":\"carpet\"}],\"table\":[{\"cells\":{\"fill\":{\"color\":\"#506784\"},\"line\":{\"color\":\"rgb(17,17,17)\"}},\"header\":{\"fill\":{\"color\":\"#2a3f5f\"},\"line\":{\"color\":\"rgb(17,17,17)\"}},\"type\":\"table\"}],\"barpolar\":[{\"marker\":{\"line\":{\"color\":\"rgb(17,17,17)\",\"width\":0.5},\"pattern\":{\"fillmode\":\"overlay\",\"size\":10,\"solidity\":0.2}},\"type\":\"barpolar\"}],\"pie\":[{\"automargin\":true,\"type\":\"pie\"}]},\"layout\":{\"autotypenumbers\":\"strict\",\"colorway\":[\"#636efa\",\"#EF553B\",\"#00cc96\",\"#ab63fa\",\"#FFA15A\",\"#19d3f3\",\"#FF6692\",\"#B6E880\",\"#FF97FF\",\"#FECB52\"],\"font\":{\"color\":\"#f2f5fa\"},\"hovermode\":\"closest\",\"hoverlabel\":{\"align\":\"left\"},\"paper_bgcolor\":\"rgb(17,17,17)\",\"plot_bgcolor\":\"rgb(17,17,17)\",\"polar\":{\"bgcolor\":\"rgb(17,17,17)\",\"angularaxis\":{\"gridcolor\":\"#506784\",\"linecolor\":\"#506784\",\"ticks\":\"\"},\"radialaxis\":{\"gridcolor\":\"#506784\",\"linecolor\":\"#506784\",\"ticks\":\"\"}},\"ternary\":{\"bgcolor\":\"rgb(17,17,17)\",\"aaxis\":{\"gridcolor\":\"#506784\",\"linecolor\":\"#506784\",\"ticks\":\"\"},\"baxis\":{\"gridcolor\":\"#506784\",\"linecolor\":\"#506784\",\"ticks\":\"\"},\"caxis\":{\"gridcolor\":\"#506784\",\"linecolor\":\"#506784\",\"ticks\":\"\"}},\"coloraxis\":{\"colorbar\":{\"outlinewidth\":0,\"ticks\":\"\"}},\"colorscale\":{\"sequential\":[[0.0,\"#0d0887\"],[0.1111111111111111,\"#46039f\"],[0.2222222222222222,\"#7201a8\"],[0.3333333333333333,\"#9c179e\"],[0.4444444444444444,\"#bd3786\"],[0.5555555555555556,\"#d8576b\"],[0.6666666666666666,\"#ed7953\"],[0.7777777777777778,\"#fb9f3a\"],[0.8888888888888888,\"#fdca26\"],[1.0,\"#f0f921\"]],\"sequentialminus\":[[0.0,\"#0d0887\"],[0.1111111111111111,\"#46039f\"],[0.2222222222222222,\"#7201a8\"],[0.3333333333333333,\"#9c179e\"],[0.4444444444444444,\"#bd3786\"],[0.5555555555555556,\"#d8576b\"],[0.6666666666666666,\"#ed7953\"],[0.7777777777777778,\"#fb9f3a\"],[0.8888888888888888,\"#fdca26\"],[1.0,\"#f0f921\"]],\"diverging\":[[0,\"#8e0152\"],[0.1,\"#c51b7d\"],[0.2,\"#de77ae\"],[0.3,\"#f1b6da\"],[0.4,\"#fde0ef\"],[0.5,\"#f7f7f7\"],[0.6,\"#e6f5d0\"],[0.7,\"#b8e186\"],[0.8,\"#7fbc41\"],[0.9,\"#4d9221\"],[1,\"#276419\"]]},\"xaxis\":{\"gridcolor\":\"#283442\",\"linecolor\":\"#506784\",\"ticks\":\"\",\"title\":{\"standoff\":15},\"zerolinecolor\":\"#283442\",\"automargin\":true,\"zerolinewidth\":2},\"yaxis\":{\"gridcolor\":\"#283442\",\"linecolor\":\"#506784\",\"ticks\":\"\",\"title\":{\"standoff\":15},\"zerolinecolor\":\"#283442\",\"automargin\":true,\"zerolinewidth\":2},\"scene\":{\"xaxis\":{\"backgroundcolor\":\"rgb(17,17,17)\",\"gridcolor\":\"#506784\",\"linecolor\":\"#506784\",\"showbackground\":true,\"ticks\":\"\",\"zerolinecolor\":\"#C8D4E3\",\"gridwidth\":2},\"yaxis\":{\"backgroundcolor\":\"rgb(17,17,17)\",\"gridcolor\":\"#506784\",\"linecolor\":\"#506784\",\"showbackground\":true,\"ticks\":\"\",\"zerolinecolor\":\"#C8D4E3\",\"gridwidth\":2},\"zaxis\":{\"backgroundcolor\":\"rgb(17,17,17)\",\"gridcolor\":\"#506784\",\"linecolor\":\"#506784\",\"showbackground\":true,\"ticks\":\"\",\"zerolinecolor\":\"#C8D4E3\",\"gridwidth\":2}},\"shapedefaults\":{\"line\":{\"color\":\"#f2f5fa\"}},\"annotationdefaults\":{\"arrowcolor\":\"#f2f5fa\",\"arrowhead\":0,\"arrowwidth\":1},\"geo\":{\"bgcolor\":\"rgb(17,17,17)\",\"landcolor\":\"rgb(17,17,17)\",\"subunitcolor\":\"#506784\",\"showland\":true,\"showlakes\":true,\"lakecolor\":\"rgb(17,17,17)\"},\"title\":{\"x\":0.05},\"updatemenudefaults\":{\"bgcolor\":\"#506784\",\"borderwidth\":0},\"sliderdefaults\":{\"bgcolor\":\"#C8D4E3\",\"borderwidth\":1,\"bordercolor\":\"rgb(17,17,17)\",\"tickwidth\":0},\"mapbox\":{\"style\":\"dark\"}}},\"xaxis\":{\"anchor\":\"y\",\"domain\":[0.0,1.0],\"title\":{\"text\":\"Lowest Price\"}},\"yaxis\":{\"anchor\":\"x\",\"domain\":[0.0,1.0],\"title\":{\"text\":\"1080p Ultra\"}},\"legend\":{\"tracegroupgap\":0},\"title\":{\"text\":\"GPU Rasterization For 1080p Ultra\"}},                        {\"responsive\": true}                    ).then(function(){\n",
       "                            \n",
       "var gd = document.getElementById('1033d390-51a5-4379-bc62-cc4cd46b8a76');\n",
       "var x = new MutationObserver(function (mutations, observer) {{\n",
       "        var display = window.getComputedStyle(gd).display;\n",
       "        if (!display || display === 'none') {{\n",
       "            console.log([gd, 'removed!']);\n",
       "            Plotly.purge(gd);\n",
       "            observer.disconnect();\n",
       "        }}\n",
       "}});\n",
       "\n",
       "// Listen for the removal of the full notebook cells\n",
       "var notebookContainer = gd.closest('#notebook-container');\n",
       "if (notebookContainer) {{\n",
       "    x.observe(notebookContainer, {childList: true});\n",
       "}}\n",
       "\n",
       "// Listen for the clearing of the current output cell\n",
       "var outputEl = gd.closest('.output');\n",
       "if (outputEl) {{\n",
       "    x.observe(outputEl, {childList: true});\n",
       "}}\n",
       "\n",
       "                        })                };                });            </script>        </div>"
      ]
     },
     "metadata": {},
     "output_type": "display_data"
    }
   ],
   "execution_count": 86
  },
  {
   "metadata": {
    "ExecuteTime": {
     "end_time": "2024-05-25T07:56:43.003977Z",
     "start_time": "2024-05-25T07:56:42.972704Z"
    }
   },
   "cell_type": "code",
   "source": [
    "from plotly.subplots import make_subplots\n",
    "fig = make_subplots(rows=2, cols=2, \n",
    "                    shared_yaxes=True,\n",
    "                    subplot_titles=(\"1080p Ultra\", \"1080p Medium\", \"1440p Ultra\", \"4K Ultra\"))\n",
    "\n",
    "fig.add_trace(go.Scatter(x=gpu_rasterization_df['Lowest Price'], y=gpu_rasterization_df['1080p Ultra'], mode='markers', hovertext=gpu_rasterization_df['Graphics Card'], name='1080 Ultra'), row=1, col=1)\n",
    "fig.add_trace(go.Scatter(x=gpu_rasterization_df['Lowest Price'], y=gpu_rasterization_df['1080p Medium'], mode='markers', hovertext=gpu_rasterization_df['Graphics Card'], name='1080p Medium'), row=1, col=2)\n",
    "fig.add_trace(go.Scatter(x=gpu_rasterization_df['Lowest Price'], y=gpu_rasterization_df['1440p Ultra'], mode='markers', hovertext=gpu_rasterization_df['Graphics Card'], name='1440p Ultra'), row=2, col=1)\n",
    "fig.add_trace(go.Scatter(x=gpu_rasterization_df['Lowest Price'], y=gpu_rasterization_df['4K Ultra'], mode='markers', hovertext=gpu_rasterization_df['Graphics Card'], name='4K Ultra'), row=2, col=2)\n",
    "\n",
    "fig.update_layout(title='Scatter plots of price vs resolutions',\n",
    "                  xaxis_title='Price',\n",
    "                  yaxis_title='FPS')\n",
    "fig.show()"
   ],
   "id": "69590ff6f8759bbb",
   "outputs": [
    {
     "data": {
      "application/vnd.plotly.v1+json": {
       "data": [
        {
         "hovertext": [
          "GeForce RTX 4090",
          "Radeon RX 7900 XTX",
          "GeForce RTX 4080 Super",
          "GeForce RTX 4080",
          "Radeon RX 7900 XT",
          "GeForce RTX 4070 Ti Super",
          "GeForce RTX 4070 Ti",
          "Radeon RX 7900 GRE",
          "GeForce RTX 4070 Super",
          "Radeon RX 6950 XT",
          "GeForce RTX 3090 Ti",
          "Radeon RX 7800 XT",
          "GeForce RTX 3090",
          "Radeon RX 6900 XT",
          "GeForce RTX 3080 Ti",
          "Radeon RX 6800 XT",
          "GeForce RTX 3080 12GB",
          "GeForce RTX 4070",
          "GeForce RTX 3080",
          "Radeon RX 7700 XT",
          "Radeon RX 6800",
          "GeForce RTX 3070 Ti",
          "Radeon RX 6750 XT",
          "GeForce RTX 4060 Ti 16GB",
          "GeForce RTX 4060 Ti",
          "Titan RTX",
          "Radeon RX 6700 XT",
          "GeForce RTX 3070",
          "GeForce RTX 2080 Ti",
          "Radeon RX 7600 XT",
          "GeForce RTX 3060 Ti",
          "Radeon RX 6700 10GB",
          "GeForce RTX 2080 Super",
          "GeForce RTX 4060",
          "GeForce RTX 2080",
          "Radeon RX 7600",
          "Radeon RX 6650 XT",
          "GeForce RTX 2070 Super",
          "Intel Arc A770 16GB",
          "Intel Arc A770 8GB",
          "Radeon RX 6600 XT",
          "Radeon RX 5700 XT",
          "GeForce RTX 3060",
          "Intel Arc A750",
          "GeForce RTX 2070",
          "Radeon VII",
          "GeForce GTX 1080 Ti",
          "GeForce RTX 2060 Super",
          "Radeon RX 6600",
          "Intel Arc A580",
          "Radeon RX 5700",
          "Radeon RX 5600 XT",
          "Radeon RX Vega 64",
          "GeForce RTX 2060",
          "GeForce GTX 1080",
          "GeForce RTX 3050",
          "GeForce GTX 1070 Ti",
          "Radeon RX Vega 56",
          "GeForce GTX 1660 Super",
          "GeForce GTX 1660 Ti",
          "GeForce GTX 1070",
          "GeForce GTX 1660",
          "Radeon RX 5500 XT 8GB",
          "Radeon RX 590",
          "GeForce GTX 980 Ti",
          "Radeon RX 580 8GB",
          "Radeon R9 Fury X",
          "GeForce GTX 1650 Super",
          "Radeon RX 5500 XT 4GB",
          "GeForce GTX 1060 6GB",
          "Radeon RX 6500 XT",
          "Radeon R9 390",
          "GeForce GTX 980",
          "GeForce GTX 1650 GDDR6",
          "Intel Arc A380",
          "Radeon RX 570 4GB",
          "GeForce GTX 1650",
          "GeForce GTX 970",
          "Radeon RX 6400",
          "GeForce GTX 1050 Ti",
          "GeForce GTX 1060 3GB",
          "GeForce GTX 1630",
          "Radeon RX 560 4GB",
          "GeForce GTX 1050",
          "Radeon RX 550 4GB",
          "GeForce GT 1030"
         ],
         "mode": "markers",
         "name": "1080 Ultra",
         "x": [
          1849.0,
          909.0,
          999.0,
          1185.0,
          699.0,
          799.0,
          699.0,
          549.0,
          589.0,
          579.0,
          1739.0,
          509.0,
          1279.0,
          779.0,
          1089.0,
          459.0,
          999.0,
          539.0,
          879.0,
          449.0,
          399.0,
          599.0,
          359.0,
          429.0,
          374.0,
          null,
          339.0,
          399.0,
          null,
          319.0,
          449.0,
          269.0,
          null,
          294.0,
          null,
          269.0,
          229.0,
          null,
          289.0,
          343.0,
          399.0,
          null,
          299.0,
          239.0,
          null,
          null,
          null,
          null,
          199.0,
          169.0,
          null,
          null,
          null,
          null,
          null,
          224.0,
          null,
          null,
          null,
          null,
          null,
          null,
          null,
          null,
          null,
          null,
          null,
          null,
          null,
          null,
          159.0,
          null,
          null,
          null,
          119.0,
          null,
          null,
          null,
          124.0,
          null,
          null,
          null,
          null,
          null,
          null,
          null
         ],
         "y": [
          154.1,
          149.0,
          148.3,
          147.0,
          143.9,
          142.3,
          138.3,
          135.8,
          134.2,
          130.5,
          130.5,
          129.3,
          125.5,
          124.6,
          123.9,
          122.7,
          122.1,
          122.0,
          117.0,
          116.1,
          114.6,
          104.0,
          102.9,
          100.6,
          100.4,
          99.3,
          99.1,
          98.8,
          96.3,
          91.9,
          90.7,
          86.1,
          86.0,
          84.9,
          82.5,
          82.0,
          77.7,
          77.4,
          76.9,
          75.3,
          74.7,
          73.3,
          72.3,
          70.8,
          69.8,
          69.5,
          66.4,
          65.5,
          65.2,
          65.1,
          64.5,
          57.8,
          56.7,
          55.5,
          53.0,
          51.9,
          51.1,
          50.6,
          46.8,
          46.6,
          44.7,
          42.6,
          39.7,
          39.3,
          35.9,
          35.3,
          35.2,
          33.9,
          33.3,
          32.1,
          30.6,
          29.8,
          28.9,
          28.8,
          28.4,
          28.1,
          27.0,
          26.5,
          24.1,
          19.8,
          null,
          16.9,
          14.7,
          null,
          null,
          null
         ],
         "type": "scatter",
         "xaxis": "x",
         "yaxis": "y"
        },
        {
         "hovertext": [
          "GeForce RTX 4090",
          "Radeon RX 7900 XTX",
          "GeForce RTX 4080 Super",
          "GeForce RTX 4080",
          "Radeon RX 7900 XT",
          "GeForce RTX 4070 Ti Super",
          "GeForce RTX 4070 Ti",
          "Radeon RX 7900 GRE",
          "GeForce RTX 4070 Super",
          "Radeon RX 6950 XT",
          "GeForce RTX 3090 Ti",
          "Radeon RX 7800 XT",
          "GeForce RTX 3090",
          "Radeon RX 6900 XT",
          "GeForce RTX 3080 Ti",
          "Radeon RX 6800 XT",
          "GeForce RTX 3080 12GB",
          "GeForce RTX 4070",
          "GeForce RTX 3080",
          "Radeon RX 7700 XT",
          "Radeon RX 6800",
          "GeForce RTX 3070 Ti",
          "Radeon RX 6750 XT",
          "GeForce RTX 4060 Ti 16GB",
          "GeForce RTX 4060 Ti",
          "Titan RTX",
          "Radeon RX 6700 XT",
          "GeForce RTX 3070",
          "GeForce RTX 2080 Ti",
          "Radeon RX 7600 XT",
          "GeForce RTX 3060 Ti",
          "Radeon RX 6700 10GB",
          "GeForce RTX 2080 Super",
          "GeForce RTX 4060",
          "GeForce RTX 2080",
          "Radeon RX 7600",
          "Radeon RX 6650 XT",
          "GeForce RTX 2070 Super",
          "Intel Arc A770 16GB",
          "Intel Arc A770 8GB",
          "Radeon RX 6600 XT",
          "Radeon RX 5700 XT",
          "GeForce RTX 3060",
          "Intel Arc A750",
          "GeForce RTX 2070",
          "Radeon VII",
          "GeForce GTX 1080 Ti",
          "GeForce RTX 2060 Super",
          "Radeon RX 6600",
          "Intel Arc A580",
          "Radeon RX 5700",
          "Radeon RX 5600 XT",
          "Radeon RX Vega 64",
          "GeForce RTX 2060",
          "GeForce GTX 1080",
          "GeForce RTX 3050",
          "GeForce GTX 1070 Ti",
          "Radeon RX Vega 56",
          "GeForce GTX 1660 Super",
          "GeForce GTX 1660 Ti",
          "GeForce GTX 1070",
          "GeForce GTX 1660",
          "Radeon RX 5500 XT 8GB",
          "Radeon RX 590",
          "GeForce GTX 980 Ti",
          "Radeon RX 580 8GB",
          "Radeon R9 Fury X",
          "GeForce GTX 1650 Super",
          "Radeon RX 5500 XT 4GB",
          "GeForce GTX 1060 6GB",
          "Radeon RX 6500 XT",
          "Radeon R9 390",
          "GeForce GTX 980",
          "GeForce GTX 1650 GDDR6",
          "Intel Arc A380",
          "Radeon RX 570 4GB",
          "GeForce GTX 1650",
          "GeForce GTX 970",
          "Radeon RX 6400",
          "GeForce GTX 1050 Ti",
          "GeForce GTX 1060 3GB",
          "GeForce GTX 1630",
          "Radeon RX 560 4GB",
          "GeForce GTX 1050",
          "Radeon RX 550 4GB",
          "GeForce GT 1030"
         ],
         "mode": "markers",
         "name": "1080p Medium",
         "x": [
          1849.0,
          909.0,
          999.0,
          1185.0,
          699.0,
          799.0,
          699.0,
          549.0,
          589.0,
          579.0,
          1739.0,
          509.0,
          1279.0,
          779.0,
          1089.0,
          459.0,
          999.0,
          539.0,
          879.0,
          449.0,
          399.0,
          599.0,
          359.0,
          429.0,
          374.0,
          null,
          339.0,
          399.0,
          null,
          319.0,
          449.0,
          269.0,
          null,
          294.0,
          null,
          269.0,
          229.0,
          null,
          289.0,
          343.0,
          399.0,
          null,
          299.0,
          239.0,
          null,
          null,
          null,
          null,
          199.0,
          169.0,
          null,
          null,
          null,
          null,
          null,
          224.0,
          null,
          null,
          null,
          null,
          null,
          null,
          null,
          null,
          null,
          null,
          null,
          null,
          null,
          null,
          159.0,
          null,
          null,
          null,
          119.0,
          null,
          null,
          null,
          124.0,
          null,
          null,
          null,
          null,
          null,
          null,
          null
         ],
         "y": [
          195.7,
          190.3,
          192.7,
          192.0,
          187.6,
          189.4,
          187.2,
          184.3,
          185.1,
          179.4,
          177.1,
          179.1,
          174.0,
          175.3,
          171.8,
          173.2,
          169.4,
          177.5,
          167.6,
          171.6,
          168.7,
          159.8,
          161.6,
          161.7,
          160.1,
          156.6,
          158.1,
          154.8,
          151.0,
          151.2,
          146.9,
          145.7,
          141.3,
          142.3,
          136.7,
          141.4,
          137.1,
          129.6,
          116.4,
          115.5,
          133.5,
          124.9,
          121.0,
          110.4,
          119.1,
          113.9,
          110.2,
          112.0,
          116.2,
          101.1,
          110.8,
          100.0,
          94.3,
          100.5,
          89.9,
          88.8,
          85.7,
          84.2,
          85.5,
          84.8,
          75.0,
          77.8,
          72.1,
          68.5,
          62.6,
          61.7,
          63.8,
          67.7,
          66.8,
          57.7,
          65.8,
          51.1,
          53.6,
          56.6,
          54.3,
          53.6,
          51.3,
          49.0,
          51.1,
          38.0,
          52.5,
          33.8,
          31.7,
          29.7,
          19.5,
          14.6
         ],
         "type": "scatter",
         "xaxis": "x2",
         "yaxis": "y2"
        },
        {
         "hovertext": [
          "GeForce RTX 4090",
          "Radeon RX 7900 XTX",
          "GeForce RTX 4080 Super",
          "GeForce RTX 4080",
          "Radeon RX 7900 XT",
          "GeForce RTX 4070 Ti Super",
          "GeForce RTX 4070 Ti",
          "Radeon RX 7900 GRE",
          "GeForce RTX 4070 Super",
          "Radeon RX 6950 XT",
          "GeForce RTX 3090 Ti",
          "Radeon RX 7800 XT",
          "GeForce RTX 3090",
          "Radeon RX 6900 XT",
          "GeForce RTX 3080 Ti",
          "Radeon RX 6800 XT",
          "GeForce RTX 3080 12GB",
          "GeForce RTX 4070",
          "GeForce RTX 3080",
          "Radeon RX 7700 XT",
          "Radeon RX 6800",
          "GeForce RTX 3070 Ti",
          "Radeon RX 6750 XT",
          "GeForce RTX 4060 Ti 16GB",
          "GeForce RTX 4060 Ti",
          "Titan RTX",
          "Radeon RX 6700 XT",
          "GeForce RTX 3070",
          "GeForce RTX 2080 Ti",
          "Radeon RX 7600 XT",
          "GeForce RTX 3060 Ti",
          "Radeon RX 6700 10GB",
          "GeForce RTX 2080 Super",
          "GeForce RTX 4060",
          "GeForce RTX 2080",
          "Radeon RX 7600",
          "Radeon RX 6650 XT",
          "GeForce RTX 2070 Super",
          "Intel Arc A770 16GB",
          "Intel Arc A770 8GB",
          "Radeon RX 6600 XT",
          "Radeon RX 5700 XT",
          "GeForce RTX 3060",
          "Intel Arc A750",
          "GeForce RTX 2070",
          "Radeon VII",
          "GeForce GTX 1080 Ti",
          "GeForce RTX 2060 Super",
          "Radeon RX 6600",
          "Intel Arc A580",
          "Radeon RX 5700",
          "Radeon RX 5600 XT",
          "Radeon RX Vega 64",
          "GeForce RTX 2060",
          "GeForce GTX 1080",
          "GeForce RTX 3050",
          "GeForce GTX 1070 Ti",
          "Radeon RX Vega 56",
          "GeForce GTX 1660 Super",
          "GeForce GTX 1660 Ti",
          "GeForce GTX 1070",
          "GeForce GTX 1660",
          "Radeon RX 5500 XT 8GB",
          "Radeon RX 590",
          "GeForce GTX 980 Ti",
          "Radeon RX 580 8GB",
          "Radeon R9 Fury X",
          "GeForce GTX 1650 Super",
          "Radeon RX 5500 XT 4GB",
          "GeForce GTX 1060 6GB",
          "Radeon RX 6500 XT",
          "Radeon R9 390",
          "GeForce GTX 980",
          "GeForce GTX 1650 GDDR6",
          "Intel Arc A380",
          "Radeon RX 570 4GB",
          "GeForce GTX 1650",
          "GeForce GTX 970",
          "Radeon RX 6400",
          "GeForce GTX 1050 Ti",
          "GeForce GTX 1060 3GB",
          "GeForce GTX 1630",
          "Radeon RX 560 4GB",
          "GeForce GTX 1050",
          "Radeon RX 550 4GB",
          "GeForce GT 1030"
         ],
         "mode": "markers",
         "name": "1440p Ultra",
         "x": [
          1849.0,
          909.0,
          999.0,
          1185.0,
          699.0,
          799.0,
          699.0,
          549.0,
          589.0,
          579.0,
          1739.0,
          509.0,
          1279.0,
          779.0,
          1089.0,
          459.0,
          999.0,
          539.0,
          879.0,
          449.0,
          399.0,
          599.0,
          359.0,
          429.0,
          374.0,
          null,
          339.0,
          399.0,
          null,
          319.0,
          449.0,
          269.0,
          null,
          294.0,
          null,
          269.0,
          229.0,
          null,
          289.0,
          343.0,
          399.0,
          null,
          299.0,
          239.0,
          null,
          null,
          null,
          null,
          199.0,
          169.0,
          null,
          null,
          null,
          null,
          null,
          224.0,
          null,
          null,
          null,
          null,
          null,
          null,
          null,
          null,
          null,
          null,
          null,
          null,
          null,
          null,
          159.0,
          null,
          null,
          null,
          119.0,
          null,
          null,
          null,
          124.0,
          null,
          null,
          null,
          null,
          null,
          null,
          null
         ],
         "y": [
          146.1,
          135.3,
          133.0,
          130.4,
          125.9,
          122.0,
          116.5,
          113.9,
          109.8,
          110.1,
          112.7,
          105.8,
          106.0,
          102.1,
          103.9,
          99.0,
          102.3,
          97.8,
          96.4,
          92.7,
          89.2,
          82.8,
          77.2,
          75.7,
          75.6,
          79.5,
          73.4,
          77.7,
          75.6,
          65.9,
          70.0,
          62.8,
          66.1,
          61.2,
          63.2,
          57.3,
          54.5,
          58.4,
          59.8,
          57.5,
          52.2,
          53.1,
          54.0,
          53.7,
          51.8,
          53.0,
          50.2,
          48.3,
          44.8,
          48.8,
          46.7,
          42.0,
          41.6,
          40.1,
          39.4,
          38.5,
          37.9,
          37.0,
          33.3,
          33.3,
          33.1,
          30.3,
          28.2,
          29.0,
          26.6,
          26.0,
          null,
          21.2,
          null,
          23.0,
          18.0,
          null,
          null,
          null,
          19.5,
          19.9,
          null,
          null,
          null,
          null,
          null,
          null,
          null,
          null,
          null,
          null
         ],
         "type": "scatter",
         "xaxis": "x3",
         "yaxis": "y3"
        },
        {
         "hovertext": [
          "GeForce RTX 4090",
          "Radeon RX 7900 XTX",
          "GeForce RTX 4080 Super",
          "GeForce RTX 4080",
          "Radeon RX 7900 XT",
          "GeForce RTX 4070 Ti Super",
          "GeForce RTX 4070 Ti",
          "Radeon RX 7900 GRE",
          "GeForce RTX 4070 Super",
          "Radeon RX 6950 XT",
          "GeForce RTX 3090 Ti",
          "Radeon RX 7800 XT",
          "GeForce RTX 3090",
          "Radeon RX 6900 XT",
          "GeForce RTX 3080 Ti",
          "Radeon RX 6800 XT",
          "GeForce RTX 3080 12GB",
          "GeForce RTX 4070",
          "GeForce RTX 3080",
          "Radeon RX 7700 XT",
          "Radeon RX 6800",
          "GeForce RTX 3070 Ti",
          "Radeon RX 6750 XT",
          "GeForce RTX 4060 Ti 16GB",
          "GeForce RTX 4060 Ti",
          "Titan RTX",
          "Radeon RX 6700 XT",
          "GeForce RTX 3070",
          "GeForce RTX 2080 Ti",
          "Radeon RX 7600 XT",
          "GeForce RTX 3060 Ti",
          "Radeon RX 6700 10GB",
          "GeForce RTX 2080 Super",
          "GeForce RTX 4060",
          "GeForce RTX 2080",
          "Radeon RX 7600",
          "Radeon RX 6650 XT",
          "GeForce RTX 2070 Super",
          "Intel Arc A770 16GB",
          "Intel Arc A770 8GB",
          "Radeon RX 6600 XT",
          "Radeon RX 5700 XT",
          "GeForce RTX 3060",
          "Intel Arc A750",
          "GeForce RTX 2070",
          "Radeon VII",
          "GeForce GTX 1080 Ti",
          "GeForce RTX 2060 Super",
          "Radeon RX 6600",
          "Intel Arc A580",
          "Radeon RX 5700",
          "Radeon RX 5600 XT",
          "Radeon RX Vega 64",
          "GeForce RTX 2060",
          "GeForce GTX 1080",
          "GeForce RTX 3050",
          "GeForce GTX 1070 Ti",
          "Radeon RX Vega 56",
          "GeForce GTX 1660 Super",
          "GeForce GTX 1660 Ti",
          "GeForce GTX 1070",
          "GeForce GTX 1660",
          "Radeon RX 5500 XT 8GB",
          "Radeon RX 590",
          "GeForce GTX 980 Ti",
          "Radeon RX 580 8GB",
          "Radeon R9 Fury X",
          "GeForce GTX 1650 Super",
          "Radeon RX 5500 XT 4GB",
          "GeForce GTX 1060 6GB",
          "Radeon RX 6500 XT",
          "Radeon R9 390",
          "GeForce GTX 980",
          "GeForce GTX 1650 GDDR6",
          "Intel Arc A380",
          "Radeon RX 570 4GB",
          "GeForce GTX 1650",
          "GeForce GTX 970",
          "Radeon RX 6400",
          "GeForce GTX 1050 Ti",
          "GeForce GTX 1060 3GB",
          "GeForce GTX 1630",
          "Radeon RX 560 4GB",
          "GeForce GTX 1050",
          "Radeon RX 550 4GB",
          "GeForce GT 1030"
         ],
         "mode": "markers",
         "name": "4K Ultra",
         "x": [
          1849.0,
          909.0,
          999.0,
          1185.0,
          699.0,
          799.0,
          699.0,
          549.0,
          589.0,
          579.0,
          1739.0,
          509.0,
          1279.0,
          779.0,
          1089.0,
          459.0,
          999.0,
          539.0,
          879.0,
          449.0,
          399.0,
          599.0,
          359.0,
          429.0,
          374.0,
          null,
          339.0,
          399.0,
          null,
          319.0,
          449.0,
          269.0,
          null,
          294.0,
          null,
          269.0,
          229.0,
          null,
          289.0,
          343.0,
          399.0,
          null,
          299.0,
          239.0,
          null,
          null,
          null,
          null,
          199.0,
          169.0,
          null,
          null,
          null,
          null,
          null,
          224.0,
          null,
          null,
          null,
          null,
          null,
          null,
          null,
          null,
          null,
          null,
          null,
          null,
          null,
          null,
          159.0,
          null,
          null,
          null,
          119.0,
          null,
          null,
          null,
          124.0,
          null,
          null,
          null,
          null,
          null,
          null,
          null
         ],
         "y": [
          114.5,
          95.1,
          91.9,
          89.3,
          81.2,
          78.6,
          73.0,
          69.3,
          66.1,
          67.1,
          75.9,
          62.3,
          70.7,
          61.2,
          68.8,
          57.9,
          66.7,
          57.2,
          62.0,
          51.5,
          50.7,
          47.7,
          42.8,
          41.6,
          39.6,
          47.8,
          40.4,
          44.4,
          43.5,
          37.1,
          null,
          32.9,
          36.7,
          31.9,
          null,
          29.1,
          null,
          null,
          35.3,
          33.2,
          null,
          29.3,
          null,
          31.1,
          null,
          31.5,
          29.5,
          null,
          null,
          27.9,
          null,
          null,
          23.5,
          null,
          null,
          null,
          null,
          null,
          null,
          null,
          null,
          null,
          null,
          null,
          null,
          null,
          null,
          null,
          null,
          null,
          null,
          null,
          null,
          null,
          null,
          null,
          null,
          null,
          null,
          null,
          null,
          null,
          null,
          null,
          null,
          null
         ],
         "type": "scatter",
         "xaxis": "x4",
         "yaxis": "y4"
        }
       ],
       "layout": {
        "template": {
         "data": {
          "histogram2dcontour": [
           {
            "type": "histogram2dcontour",
            "colorbar": {
             "outlinewidth": 0,
             "ticks": ""
            },
            "colorscale": [
             [
              0.0,
              "#0d0887"
             ],
             [
              0.1111111111111111,
              "#46039f"
             ],
             [
              0.2222222222222222,
              "#7201a8"
             ],
             [
              0.3333333333333333,
              "#9c179e"
             ],
             [
              0.4444444444444444,
              "#bd3786"
             ],
             [
              0.5555555555555556,
              "#d8576b"
             ],
             [
              0.6666666666666666,
              "#ed7953"
             ],
             [
              0.7777777777777778,
              "#fb9f3a"
             ],
             [
              0.8888888888888888,
              "#fdca26"
             ],
             [
              1.0,
              "#f0f921"
             ]
            ]
           }
          ],
          "choropleth": [
           {
            "type": "choropleth",
            "colorbar": {
             "outlinewidth": 0,
             "ticks": ""
            }
           }
          ],
          "histogram2d": [
           {
            "type": "histogram2d",
            "colorbar": {
             "outlinewidth": 0,
             "ticks": ""
            },
            "colorscale": [
             [
              0.0,
              "#0d0887"
             ],
             [
              0.1111111111111111,
              "#46039f"
             ],
             [
              0.2222222222222222,
              "#7201a8"
             ],
             [
              0.3333333333333333,
              "#9c179e"
             ],
             [
              0.4444444444444444,
              "#bd3786"
             ],
             [
              0.5555555555555556,
              "#d8576b"
             ],
             [
              0.6666666666666666,
              "#ed7953"
             ],
             [
              0.7777777777777778,
              "#fb9f3a"
             ],
             [
              0.8888888888888888,
              "#fdca26"
             ],
             [
              1.0,
              "#f0f921"
             ]
            ]
           }
          ],
          "heatmap": [
           {
            "type": "heatmap",
            "colorbar": {
             "outlinewidth": 0,
             "ticks": ""
            },
            "colorscale": [
             [
              0.0,
              "#0d0887"
             ],
             [
              0.1111111111111111,
              "#46039f"
             ],
             [
              0.2222222222222222,
              "#7201a8"
             ],
             [
              0.3333333333333333,
              "#9c179e"
             ],
             [
              0.4444444444444444,
              "#bd3786"
             ],
             [
              0.5555555555555556,
              "#d8576b"
             ],
             [
              0.6666666666666666,
              "#ed7953"
             ],
             [
              0.7777777777777778,
              "#fb9f3a"
             ],
             [
              0.8888888888888888,
              "#fdca26"
             ],
             [
              1.0,
              "#f0f921"
             ]
            ]
           }
          ],
          "heatmapgl": [
           {
            "type": "heatmapgl",
            "colorbar": {
             "outlinewidth": 0,
             "ticks": ""
            },
            "colorscale": [
             [
              0.0,
              "#0d0887"
             ],
             [
              0.1111111111111111,
              "#46039f"
             ],
             [
              0.2222222222222222,
              "#7201a8"
             ],
             [
              0.3333333333333333,
              "#9c179e"
             ],
             [
              0.4444444444444444,
              "#bd3786"
             ],
             [
              0.5555555555555556,
              "#d8576b"
             ],
             [
              0.6666666666666666,
              "#ed7953"
             ],
             [
              0.7777777777777778,
              "#fb9f3a"
             ],
             [
              0.8888888888888888,
              "#fdca26"
             ],
             [
              1.0,
              "#f0f921"
             ]
            ]
           }
          ],
          "contourcarpet": [
           {
            "type": "contourcarpet",
            "colorbar": {
             "outlinewidth": 0,
             "ticks": ""
            }
           }
          ],
          "contour": [
           {
            "type": "contour",
            "colorbar": {
             "outlinewidth": 0,
             "ticks": ""
            },
            "colorscale": [
             [
              0.0,
              "#0d0887"
             ],
             [
              0.1111111111111111,
              "#46039f"
             ],
             [
              0.2222222222222222,
              "#7201a8"
             ],
             [
              0.3333333333333333,
              "#9c179e"
             ],
             [
              0.4444444444444444,
              "#bd3786"
             ],
             [
              0.5555555555555556,
              "#d8576b"
             ],
             [
              0.6666666666666666,
              "#ed7953"
             ],
             [
              0.7777777777777778,
              "#fb9f3a"
             ],
             [
              0.8888888888888888,
              "#fdca26"
             ],
             [
              1.0,
              "#f0f921"
             ]
            ]
           }
          ],
          "surface": [
           {
            "type": "surface",
            "colorbar": {
             "outlinewidth": 0,
             "ticks": ""
            },
            "colorscale": [
             [
              0.0,
              "#0d0887"
             ],
             [
              0.1111111111111111,
              "#46039f"
             ],
             [
              0.2222222222222222,
              "#7201a8"
             ],
             [
              0.3333333333333333,
              "#9c179e"
             ],
             [
              0.4444444444444444,
              "#bd3786"
             ],
             [
              0.5555555555555556,
              "#d8576b"
             ],
             [
              0.6666666666666666,
              "#ed7953"
             ],
             [
              0.7777777777777778,
              "#fb9f3a"
             ],
             [
              0.8888888888888888,
              "#fdca26"
             ],
             [
              1.0,
              "#f0f921"
             ]
            ]
           }
          ],
          "mesh3d": [
           {
            "type": "mesh3d",
            "colorbar": {
             "outlinewidth": 0,
             "ticks": ""
            }
           }
          ],
          "scatter": [
           {
            "marker": {
             "line": {
              "color": "#283442"
             }
            },
            "type": "scatter"
           }
          ],
          "parcoords": [
           {
            "type": "parcoords",
            "line": {
             "colorbar": {
              "outlinewidth": 0,
              "ticks": ""
             }
            }
           }
          ],
          "scatterpolargl": [
           {
            "type": "scatterpolargl",
            "marker": {
             "colorbar": {
              "outlinewidth": 0,
              "ticks": ""
             }
            }
           }
          ],
          "bar": [
           {
            "error_x": {
             "color": "#f2f5fa"
            },
            "error_y": {
             "color": "#f2f5fa"
            },
            "marker": {
             "line": {
              "color": "rgb(17,17,17)",
              "width": 0.5
             },
             "pattern": {
              "fillmode": "overlay",
              "size": 10,
              "solidity": 0.2
             }
            },
            "type": "bar"
           }
          ],
          "scattergeo": [
           {
            "type": "scattergeo",
            "marker": {
             "colorbar": {
              "outlinewidth": 0,
              "ticks": ""
             }
            }
           }
          ],
          "scatterpolar": [
           {
            "type": "scatterpolar",
            "marker": {
             "colorbar": {
              "outlinewidth": 0,
              "ticks": ""
             }
            }
           }
          ],
          "histogram": [
           {
            "marker": {
             "pattern": {
              "fillmode": "overlay",
              "size": 10,
              "solidity": 0.2
             }
            },
            "type": "histogram"
           }
          ],
          "scattergl": [
           {
            "marker": {
             "line": {
              "color": "#283442"
             }
            },
            "type": "scattergl"
           }
          ],
          "scatter3d": [
           {
            "type": "scatter3d",
            "line": {
             "colorbar": {
              "outlinewidth": 0,
              "ticks": ""
             }
            },
            "marker": {
             "colorbar": {
              "outlinewidth": 0,
              "ticks": ""
             }
            }
           }
          ],
          "scattermapbox": [
           {
            "type": "scattermapbox",
            "marker": {
             "colorbar": {
              "outlinewidth": 0,
              "ticks": ""
             }
            }
           }
          ],
          "scatterternary": [
           {
            "type": "scatterternary",
            "marker": {
             "colorbar": {
              "outlinewidth": 0,
              "ticks": ""
             }
            }
           }
          ],
          "scattercarpet": [
           {
            "type": "scattercarpet",
            "marker": {
             "colorbar": {
              "outlinewidth": 0,
              "ticks": ""
             }
            }
           }
          ],
          "carpet": [
           {
            "aaxis": {
             "endlinecolor": "#A2B1C6",
             "gridcolor": "#506784",
             "linecolor": "#506784",
             "minorgridcolor": "#506784",
             "startlinecolor": "#A2B1C6"
            },
            "baxis": {
             "endlinecolor": "#A2B1C6",
             "gridcolor": "#506784",
             "linecolor": "#506784",
             "minorgridcolor": "#506784",
             "startlinecolor": "#A2B1C6"
            },
            "type": "carpet"
           }
          ],
          "table": [
           {
            "cells": {
             "fill": {
              "color": "#506784"
             },
             "line": {
              "color": "rgb(17,17,17)"
             }
            },
            "header": {
             "fill": {
              "color": "#2a3f5f"
             },
             "line": {
              "color": "rgb(17,17,17)"
             }
            },
            "type": "table"
           }
          ],
          "barpolar": [
           {
            "marker": {
             "line": {
              "color": "rgb(17,17,17)",
              "width": 0.5
             },
             "pattern": {
              "fillmode": "overlay",
              "size": 10,
              "solidity": 0.2
             }
            },
            "type": "barpolar"
           }
          ],
          "pie": [
           {
            "automargin": true,
            "type": "pie"
           }
          ]
         },
         "layout": {
          "autotypenumbers": "strict",
          "colorway": [
           "#636efa",
           "#EF553B",
           "#00cc96",
           "#ab63fa",
           "#FFA15A",
           "#19d3f3",
           "#FF6692",
           "#B6E880",
           "#FF97FF",
           "#FECB52"
          ],
          "font": {
           "color": "#f2f5fa"
          },
          "hovermode": "closest",
          "hoverlabel": {
           "align": "left"
          },
          "paper_bgcolor": "rgb(17,17,17)",
          "plot_bgcolor": "rgb(17,17,17)",
          "polar": {
           "bgcolor": "rgb(17,17,17)",
           "angularaxis": {
            "gridcolor": "#506784",
            "linecolor": "#506784",
            "ticks": ""
           },
           "radialaxis": {
            "gridcolor": "#506784",
            "linecolor": "#506784",
            "ticks": ""
           }
          },
          "ternary": {
           "bgcolor": "rgb(17,17,17)",
           "aaxis": {
            "gridcolor": "#506784",
            "linecolor": "#506784",
            "ticks": ""
           },
           "baxis": {
            "gridcolor": "#506784",
            "linecolor": "#506784",
            "ticks": ""
           },
           "caxis": {
            "gridcolor": "#506784",
            "linecolor": "#506784",
            "ticks": ""
           }
          },
          "coloraxis": {
           "colorbar": {
            "outlinewidth": 0,
            "ticks": ""
           }
          },
          "colorscale": {
           "sequential": [
            [
             0.0,
             "#0d0887"
            ],
            [
             0.1111111111111111,
             "#46039f"
            ],
            [
             0.2222222222222222,
             "#7201a8"
            ],
            [
             0.3333333333333333,
             "#9c179e"
            ],
            [
             0.4444444444444444,
             "#bd3786"
            ],
            [
             0.5555555555555556,
             "#d8576b"
            ],
            [
             0.6666666666666666,
             "#ed7953"
            ],
            [
             0.7777777777777778,
             "#fb9f3a"
            ],
            [
             0.8888888888888888,
             "#fdca26"
            ],
            [
             1.0,
             "#f0f921"
            ]
           ],
           "sequentialminus": [
            [
             0.0,
             "#0d0887"
            ],
            [
             0.1111111111111111,
             "#46039f"
            ],
            [
             0.2222222222222222,
             "#7201a8"
            ],
            [
             0.3333333333333333,
             "#9c179e"
            ],
            [
             0.4444444444444444,
             "#bd3786"
            ],
            [
             0.5555555555555556,
             "#d8576b"
            ],
            [
             0.6666666666666666,
             "#ed7953"
            ],
            [
             0.7777777777777778,
             "#fb9f3a"
            ],
            [
             0.8888888888888888,
             "#fdca26"
            ],
            [
             1.0,
             "#f0f921"
            ]
           ],
           "diverging": [
            [
             0,
             "#8e0152"
            ],
            [
             0.1,
             "#c51b7d"
            ],
            [
             0.2,
             "#de77ae"
            ],
            [
             0.3,
             "#f1b6da"
            ],
            [
             0.4,
             "#fde0ef"
            ],
            [
             0.5,
             "#f7f7f7"
            ],
            [
             0.6,
             "#e6f5d0"
            ],
            [
             0.7,
             "#b8e186"
            ],
            [
             0.8,
             "#7fbc41"
            ],
            [
             0.9,
             "#4d9221"
            ],
            [
             1,
             "#276419"
            ]
           ]
          },
          "xaxis": {
           "gridcolor": "#283442",
           "linecolor": "#506784",
           "ticks": "",
           "title": {
            "standoff": 15
           },
           "zerolinecolor": "#283442",
           "automargin": true,
           "zerolinewidth": 2
          },
          "yaxis": {
           "gridcolor": "#283442",
           "linecolor": "#506784",
           "ticks": "",
           "title": {
            "standoff": 15
           },
           "zerolinecolor": "#283442",
           "automargin": true,
           "zerolinewidth": 2
          },
          "scene": {
           "xaxis": {
            "backgroundcolor": "rgb(17,17,17)",
            "gridcolor": "#506784",
            "linecolor": "#506784",
            "showbackground": true,
            "ticks": "",
            "zerolinecolor": "#C8D4E3",
            "gridwidth": 2
           },
           "yaxis": {
            "backgroundcolor": "rgb(17,17,17)",
            "gridcolor": "#506784",
            "linecolor": "#506784",
            "showbackground": true,
            "ticks": "",
            "zerolinecolor": "#C8D4E3",
            "gridwidth": 2
           },
           "zaxis": {
            "backgroundcolor": "rgb(17,17,17)",
            "gridcolor": "#506784",
            "linecolor": "#506784",
            "showbackground": true,
            "ticks": "",
            "zerolinecolor": "#C8D4E3",
            "gridwidth": 2
           }
          },
          "shapedefaults": {
           "line": {
            "color": "#f2f5fa"
           }
          },
          "annotationdefaults": {
           "arrowcolor": "#f2f5fa",
           "arrowhead": 0,
           "arrowwidth": 1
          },
          "geo": {
           "bgcolor": "rgb(17,17,17)",
           "landcolor": "rgb(17,17,17)",
           "subunitcolor": "#506784",
           "showland": true,
           "showlakes": true,
           "lakecolor": "rgb(17,17,17)"
          },
          "title": {
           "x": 0.05
          },
          "updatemenudefaults": {
           "bgcolor": "#506784",
           "borderwidth": 0
          },
          "sliderdefaults": {
           "bgcolor": "#C8D4E3",
           "borderwidth": 1,
           "bordercolor": "rgb(17,17,17)",
           "tickwidth": 0
          },
          "mapbox": {
           "style": "dark"
          }
         }
        },
        "xaxis": {
         "anchor": "y",
         "domain": [
          0.0,
          0.45
         ],
         "title": {
          "text": "Price"
         }
        },
        "yaxis": {
         "anchor": "x",
         "domain": [
          0.625,
          1.0
         ],
         "title": {
          "text": "FPS"
         }
        },
        "xaxis2": {
         "anchor": "y2",
         "domain": [
          0.55,
          1.0
         ]
        },
        "yaxis2": {
         "anchor": "x2",
         "domain": [
          0.625,
          1.0
         ],
         "matches": "y",
         "showticklabels": false
        },
        "xaxis3": {
         "anchor": "y3",
         "domain": [
          0.0,
          0.45
         ]
        },
        "yaxis3": {
         "anchor": "x3",
         "domain": [
          0.0,
          0.375
         ]
        },
        "xaxis4": {
         "anchor": "y4",
         "domain": [
          0.55,
          1.0
         ]
        },
        "yaxis4": {
         "anchor": "x4",
         "domain": [
          0.0,
          0.375
         ],
         "matches": "y3",
         "showticklabels": false
        },
        "annotations": [
         {
          "font": {
           "size": 16
          },
          "showarrow": false,
          "text": "1080p Ultra",
          "x": 0.225,
          "xanchor": "center",
          "xref": "paper",
          "y": 1.0,
          "yanchor": "bottom",
          "yref": "paper"
         },
         {
          "font": {
           "size": 16
          },
          "showarrow": false,
          "text": "1080p Medium",
          "x": 0.775,
          "xanchor": "center",
          "xref": "paper",
          "y": 1.0,
          "yanchor": "bottom",
          "yref": "paper"
         },
         {
          "font": {
           "size": 16
          },
          "showarrow": false,
          "text": "1440p Ultra",
          "x": 0.225,
          "xanchor": "center",
          "xref": "paper",
          "y": 0.375,
          "yanchor": "bottom",
          "yref": "paper"
         },
         {
          "font": {
           "size": 16
          },
          "showarrow": false,
          "text": "4K Ultra",
          "x": 0.775,
          "xanchor": "center",
          "xref": "paper",
          "y": 0.375,
          "yanchor": "bottom",
          "yref": "paper"
         }
        ],
        "title": {
         "text": "Scatter plots of price vs resolutions"
        }
       },
       "config": {
        "plotlyServerURL": "https://plot.ly"
       }
      },
      "text/html": [
       "<div>                            <div id=\"6e14cff3-6861-4196-a2fb-4770c334ae3a\" class=\"plotly-graph-div\" style=\"height:525px; width:100%;\"></div>            <script type=\"text/javascript\">                require([\"plotly\"], function(Plotly) {                    window.PLOTLYENV=window.PLOTLYENV || {};                                    if (document.getElementById(\"6e14cff3-6861-4196-a2fb-4770c334ae3a\")) {                    Plotly.newPlot(                        \"6e14cff3-6861-4196-a2fb-4770c334ae3a\",                        [{\"hovertext\":[\"GeForce RTX 4090\",\"Radeon RX 7900 XTX\",\"GeForce RTX 4080 Super\",\"GeForce RTX 4080\",\"Radeon RX 7900 XT\",\"GeForce RTX 4070 Ti Super\",\"GeForce RTX 4070 Ti\",\"Radeon RX 7900 GRE\",\"GeForce RTX 4070 Super\",\"Radeon RX 6950 XT\",\"GeForce RTX 3090 Ti\",\"Radeon RX 7800 XT\",\"GeForce RTX 3090\",\"Radeon RX 6900 XT\",\"GeForce RTX 3080 Ti\",\"Radeon RX 6800 XT\",\"GeForce RTX 3080 12GB\",\"GeForce RTX 4070\",\"GeForce RTX 3080\",\"Radeon RX 7700 XT\",\"Radeon RX 6800\",\"GeForce RTX 3070 Ti\",\"Radeon RX 6750 XT\",\"GeForce RTX 4060 Ti 16GB\",\"GeForce RTX 4060 Ti\",\"Titan RTX\",\"Radeon RX 6700 XT\",\"GeForce RTX 3070\",\"GeForce RTX 2080 Ti\",\"Radeon RX 7600 XT\",\"GeForce RTX 3060 Ti\",\"Radeon RX 6700 10GB\",\"GeForce RTX 2080 Super\",\"GeForce RTX 4060\",\"GeForce RTX 2080\",\"Radeon RX 7600\",\"Radeon RX 6650 XT\",\"GeForce RTX 2070 Super\",\"Intel Arc A770 16GB\",\"Intel Arc A770 8GB\",\"Radeon RX 6600 XT\",\"Radeon RX 5700 XT\",\"GeForce RTX 3060\",\"Intel Arc A750\",\"GeForce RTX 2070\",\"Radeon VII\",\"GeForce GTX 1080 Ti\",\"GeForce RTX 2060 Super\",\"Radeon RX 6600\",\"Intel Arc A580\",\"Radeon RX 5700\",\"Radeon RX 5600 XT\",\"Radeon RX Vega 64\",\"GeForce RTX 2060\",\"GeForce GTX 1080\",\"GeForce RTX 3050\",\"GeForce GTX 1070 Ti\",\"Radeon RX Vega 56\",\"GeForce GTX 1660 Super\",\"GeForce GTX 1660 Ti\",\"GeForce GTX 1070\",\"GeForce GTX 1660\",\"Radeon RX 5500 XT 8GB\",\"Radeon RX 590\",\"GeForce GTX 980 Ti\",\"Radeon RX 580 8GB\",\"Radeon R9 Fury X\",\"GeForce GTX 1650 Super\",\"Radeon RX 5500 XT 4GB\",\"GeForce GTX 1060 6GB\",\"Radeon RX 6500 XT\",\"Radeon R9 390\",\"GeForce GTX 980\",\"GeForce GTX 1650 GDDR6\",\"Intel Arc A380\",\"Radeon RX 570 4GB\",\"GeForce GTX 1650\",\"GeForce GTX 970\",\"Radeon RX 6400\",\"GeForce GTX 1050 Ti\",\"GeForce GTX 1060 3GB\",\"GeForce GTX 1630\",\"Radeon RX 560 4GB\",\"GeForce GTX 1050\",\"Radeon RX 550 4GB\",\"GeForce GT 1030\"],\"mode\":\"markers\",\"name\":\"1080 Ultra\",\"x\":[1849.0,909.0,999.0,1185.0,699.0,799.0,699.0,549.0,589.0,579.0,1739.0,509.0,1279.0,779.0,1089.0,459.0,999.0,539.0,879.0,449.0,399.0,599.0,359.0,429.0,374.0,null,339.0,399.0,null,319.0,449.0,269.0,null,294.0,null,269.0,229.0,null,289.0,343.0,399.0,null,299.0,239.0,null,null,null,null,199.0,169.0,null,null,null,null,null,224.0,null,null,null,null,null,null,null,null,null,null,null,null,null,null,159.0,null,null,null,119.0,null,null,null,124.0,null,null,null,null,null,null,null],\"y\":[154.1,149.0,148.3,147.0,143.9,142.3,138.3,135.8,134.2,130.5,130.5,129.3,125.5,124.6,123.9,122.7,122.1,122.0,117.0,116.1,114.6,104.0,102.9,100.6,100.4,99.3,99.1,98.8,96.3,91.9,90.7,86.1,86.0,84.9,82.5,82.0,77.7,77.4,76.9,75.3,74.7,73.3,72.3,70.8,69.8,69.5,66.4,65.5,65.2,65.1,64.5,57.8,56.7,55.5,53.0,51.9,51.1,50.6,46.8,46.6,44.7,42.6,39.7,39.3,35.9,35.3,35.2,33.9,33.3,32.1,30.6,29.8,28.9,28.8,28.4,28.1,27.0,26.5,24.1,19.8,null,16.9,14.7,null,null,null],\"type\":\"scatter\",\"xaxis\":\"x\",\"yaxis\":\"y\"},{\"hovertext\":[\"GeForce RTX 4090\",\"Radeon RX 7900 XTX\",\"GeForce RTX 4080 Super\",\"GeForce RTX 4080\",\"Radeon RX 7900 XT\",\"GeForce RTX 4070 Ti Super\",\"GeForce RTX 4070 Ti\",\"Radeon RX 7900 GRE\",\"GeForce RTX 4070 Super\",\"Radeon RX 6950 XT\",\"GeForce RTX 3090 Ti\",\"Radeon RX 7800 XT\",\"GeForce RTX 3090\",\"Radeon RX 6900 XT\",\"GeForce RTX 3080 Ti\",\"Radeon RX 6800 XT\",\"GeForce RTX 3080 12GB\",\"GeForce RTX 4070\",\"GeForce RTX 3080\",\"Radeon RX 7700 XT\",\"Radeon RX 6800\",\"GeForce RTX 3070 Ti\",\"Radeon RX 6750 XT\",\"GeForce RTX 4060 Ti 16GB\",\"GeForce RTX 4060 Ti\",\"Titan RTX\",\"Radeon RX 6700 XT\",\"GeForce RTX 3070\",\"GeForce RTX 2080 Ti\",\"Radeon RX 7600 XT\",\"GeForce RTX 3060 Ti\",\"Radeon RX 6700 10GB\",\"GeForce RTX 2080 Super\",\"GeForce RTX 4060\",\"GeForce RTX 2080\",\"Radeon RX 7600\",\"Radeon RX 6650 XT\",\"GeForce RTX 2070 Super\",\"Intel Arc A770 16GB\",\"Intel Arc A770 8GB\",\"Radeon RX 6600 XT\",\"Radeon RX 5700 XT\",\"GeForce RTX 3060\",\"Intel Arc A750\",\"GeForce RTX 2070\",\"Radeon VII\",\"GeForce GTX 1080 Ti\",\"GeForce RTX 2060 Super\",\"Radeon RX 6600\",\"Intel Arc A580\",\"Radeon RX 5700\",\"Radeon RX 5600 XT\",\"Radeon RX Vega 64\",\"GeForce RTX 2060\",\"GeForce GTX 1080\",\"GeForce RTX 3050\",\"GeForce GTX 1070 Ti\",\"Radeon RX Vega 56\",\"GeForce GTX 1660 Super\",\"GeForce GTX 1660 Ti\",\"GeForce GTX 1070\",\"GeForce GTX 1660\",\"Radeon RX 5500 XT 8GB\",\"Radeon RX 590\",\"GeForce GTX 980 Ti\",\"Radeon RX 580 8GB\",\"Radeon R9 Fury X\",\"GeForce GTX 1650 Super\",\"Radeon RX 5500 XT 4GB\",\"GeForce GTX 1060 6GB\",\"Radeon RX 6500 XT\",\"Radeon R9 390\",\"GeForce GTX 980\",\"GeForce GTX 1650 GDDR6\",\"Intel Arc A380\",\"Radeon RX 570 4GB\",\"GeForce GTX 1650\",\"GeForce GTX 970\",\"Radeon RX 6400\",\"GeForce GTX 1050 Ti\",\"GeForce GTX 1060 3GB\",\"GeForce GTX 1630\",\"Radeon RX 560 4GB\",\"GeForce GTX 1050\",\"Radeon RX 550 4GB\",\"GeForce GT 1030\"],\"mode\":\"markers\",\"name\":\"1080p Medium\",\"x\":[1849.0,909.0,999.0,1185.0,699.0,799.0,699.0,549.0,589.0,579.0,1739.0,509.0,1279.0,779.0,1089.0,459.0,999.0,539.0,879.0,449.0,399.0,599.0,359.0,429.0,374.0,null,339.0,399.0,null,319.0,449.0,269.0,null,294.0,null,269.0,229.0,null,289.0,343.0,399.0,null,299.0,239.0,null,null,null,null,199.0,169.0,null,null,null,null,null,224.0,null,null,null,null,null,null,null,null,null,null,null,null,null,null,159.0,null,null,null,119.0,null,null,null,124.0,null,null,null,null,null,null,null],\"y\":[195.7,190.3,192.7,192.0,187.6,189.4,187.2,184.3,185.1,179.4,177.1,179.1,174.0,175.3,171.8,173.2,169.4,177.5,167.6,171.6,168.7,159.8,161.6,161.7,160.1,156.6,158.1,154.8,151.0,151.2,146.9,145.7,141.3,142.3,136.7,141.4,137.1,129.6,116.4,115.5,133.5,124.9,121.0,110.4,119.1,113.9,110.2,112.0,116.2,101.1,110.8,100.0,94.3,100.5,89.9,88.8,85.7,84.2,85.5,84.8,75.0,77.8,72.1,68.5,62.6,61.7,63.8,67.7,66.8,57.7,65.8,51.1,53.6,56.6,54.3,53.6,51.3,49.0,51.1,38.0,52.5,33.8,31.7,29.7,19.5,14.6],\"type\":\"scatter\",\"xaxis\":\"x2\",\"yaxis\":\"y2\"},{\"hovertext\":[\"GeForce RTX 4090\",\"Radeon RX 7900 XTX\",\"GeForce RTX 4080 Super\",\"GeForce RTX 4080\",\"Radeon RX 7900 XT\",\"GeForce RTX 4070 Ti Super\",\"GeForce RTX 4070 Ti\",\"Radeon RX 7900 GRE\",\"GeForce RTX 4070 Super\",\"Radeon RX 6950 XT\",\"GeForce RTX 3090 Ti\",\"Radeon RX 7800 XT\",\"GeForce RTX 3090\",\"Radeon RX 6900 XT\",\"GeForce RTX 3080 Ti\",\"Radeon RX 6800 XT\",\"GeForce RTX 3080 12GB\",\"GeForce RTX 4070\",\"GeForce RTX 3080\",\"Radeon RX 7700 XT\",\"Radeon RX 6800\",\"GeForce RTX 3070 Ti\",\"Radeon RX 6750 XT\",\"GeForce RTX 4060 Ti 16GB\",\"GeForce RTX 4060 Ti\",\"Titan RTX\",\"Radeon RX 6700 XT\",\"GeForce RTX 3070\",\"GeForce RTX 2080 Ti\",\"Radeon RX 7600 XT\",\"GeForce RTX 3060 Ti\",\"Radeon RX 6700 10GB\",\"GeForce RTX 2080 Super\",\"GeForce RTX 4060\",\"GeForce RTX 2080\",\"Radeon RX 7600\",\"Radeon RX 6650 XT\",\"GeForce RTX 2070 Super\",\"Intel Arc A770 16GB\",\"Intel Arc A770 8GB\",\"Radeon RX 6600 XT\",\"Radeon RX 5700 XT\",\"GeForce RTX 3060\",\"Intel Arc A750\",\"GeForce RTX 2070\",\"Radeon VII\",\"GeForce GTX 1080 Ti\",\"GeForce RTX 2060 Super\",\"Radeon RX 6600\",\"Intel Arc A580\",\"Radeon RX 5700\",\"Radeon RX 5600 XT\",\"Radeon RX Vega 64\",\"GeForce RTX 2060\",\"GeForce GTX 1080\",\"GeForce RTX 3050\",\"GeForce GTX 1070 Ti\",\"Radeon RX Vega 56\",\"GeForce GTX 1660 Super\",\"GeForce GTX 1660 Ti\",\"GeForce GTX 1070\",\"GeForce GTX 1660\",\"Radeon RX 5500 XT 8GB\",\"Radeon RX 590\",\"GeForce GTX 980 Ti\",\"Radeon RX 580 8GB\",\"Radeon R9 Fury X\",\"GeForce GTX 1650 Super\",\"Radeon RX 5500 XT 4GB\",\"GeForce GTX 1060 6GB\",\"Radeon RX 6500 XT\",\"Radeon R9 390\",\"GeForce GTX 980\",\"GeForce GTX 1650 GDDR6\",\"Intel Arc A380\",\"Radeon RX 570 4GB\",\"GeForce GTX 1650\",\"GeForce GTX 970\",\"Radeon RX 6400\",\"GeForce GTX 1050 Ti\",\"GeForce GTX 1060 3GB\",\"GeForce GTX 1630\",\"Radeon RX 560 4GB\",\"GeForce GTX 1050\",\"Radeon RX 550 4GB\",\"GeForce GT 1030\"],\"mode\":\"markers\",\"name\":\"1440p Ultra\",\"x\":[1849.0,909.0,999.0,1185.0,699.0,799.0,699.0,549.0,589.0,579.0,1739.0,509.0,1279.0,779.0,1089.0,459.0,999.0,539.0,879.0,449.0,399.0,599.0,359.0,429.0,374.0,null,339.0,399.0,null,319.0,449.0,269.0,null,294.0,null,269.0,229.0,null,289.0,343.0,399.0,null,299.0,239.0,null,null,null,null,199.0,169.0,null,null,null,null,null,224.0,null,null,null,null,null,null,null,null,null,null,null,null,null,null,159.0,null,null,null,119.0,null,null,null,124.0,null,null,null,null,null,null,null],\"y\":[146.1,135.3,133.0,130.4,125.9,122.0,116.5,113.9,109.8,110.1,112.7,105.8,106.0,102.1,103.9,99.0,102.3,97.8,96.4,92.7,89.2,82.8,77.2,75.7,75.6,79.5,73.4,77.7,75.6,65.9,70.0,62.8,66.1,61.2,63.2,57.3,54.5,58.4,59.8,57.5,52.2,53.1,54.0,53.7,51.8,53.0,50.2,48.3,44.8,48.8,46.7,42.0,41.6,40.1,39.4,38.5,37.9,37.0,33.3,33.3,33.1,30.3,28.2,29.0,26.6,26.0,null,21.2,null,23.0,18.0,null,null,null,19.5,19.9,null,null,null,null,null,null,null,null,null,null],\"type\":\"scatter\",\"xaxis\":\"x3\",\"yaxis\":\"y3\"},{\"hovertext\":[\"GeForce RTX 4090\",\"Radeon RX 7900 XTX\",\"GeForce RTX 4080 Super\",\"GeForce RTX 4080\",\"Radeon RX 7900 XT\",\"GeForce RTX 4070 Ti Super\",\"GeForce RTX 4070 Ti\",\"Radeon RX 7900 GRE\",\"GeForce RTX 4070 Super\",\"Radeon RX 6950 XT\",\"GeForce RTX 3090 Ti\",\"Radeon RX 7800 XT\",\"GeForce RTX 3090\",\"Radeon RX 6900 XT\",\"GeForce RTX 3080 Ti\",\"Radeon RX 6800 XT\",\"GeForce RTX 3080 12GB\",\"GeForce RTX 4070\",\"GeForce RTX 3080\",\"Radeon RX 7700 XT\",\"Radeon RX 6800\",\"GeForce RTX 3070 Ti\",\"Radeon RX 6750 XT\",\"GeForce RTX 4060 Ti 16GB\",\"GeForce RTX 4060 Ti\",\"Titan RTX\",\"Radeon RX 6700 XT\",\"GeForce RTX 3070\",\"GeForce RTX 2080 Ti\",\"Radeon RX 7600 XT\",\"GeForce RTX 3060 Ti\",\"Radeon RX 6700 10GB\",\"GeForce RTX 2080 Super\",\"GeForce RTX 4060\",\"GeForce RTX 2080\",\"Radeon RX 7600\",\"Radeon RX 6650 XT\",\"GeForce RTX 2070 Super\",\"Intel Arc A770 16GB\",\"Intel Arc A770 8GB\",\"Radeon RX 6600 XT\",\"Radeon RX 5700 XT\",\"GeForce RTX 3060\",\"Intel Arc A750\",\"GeForce RTX 2070\",\"Radeon VII\",\"GeForce GTX 1080 Ti\",\"GeForce RTX 2060 Super\",\"Radeon RX 6600\",\"Intel Arc A580\",\"Radeon RX 5700\",\"Radeon RX 5600 XT\",\"Radeon RX Vega 64\",\"GeForce RTX 2060\",\"GeForce GTX 1080\",\"GeForce RTX 3050\",\"GeForce GTX 1070 Ti\",\"Radeon RX Vega 56\",\"GeForce GTX 1660 Super\",\"GeForce GTX 1660 Ti\",\"GeForce GTX 1070\",\"GeForce GTX 1660\",\"Radeon RX 5500 XT 8GB\",\"Radeon RX 590\",\"GeForce GTX 980 Ti\",\"Radeon RX 580 8GB\",\"Radeon R9 Fury X\",\"GeForce GTX 1650 Super\",\"Radeon RX 5500 XT 4GB\",\"GeForce GTX 1060 6GB\",\"Radeon RX 6500 XT\",\"Radeon R9 390\",\"GeForce GTX 980\",\"GeForce GTX 1650 GDDR6\",\"Intel Arc A380\",\"Radeon RX 570 4GB\",\"GeForce GTX 1650\",\"GeForce GTX 970\",\"Radeon RX 6400\",\"GeForce GTX 1050 Ti\",\"GeForce GTX 1060 3GB\",\"GeForce GTX 1630\",\"Radeon RX 560 4GB\",\"GeForce GTX 1050\",\"Radeon RX 550 4GB\",\"GeForce GT 1030\"],\"mode\":\"markers\",\"name\":\"4K Ultra\",\"x\":[1849.0,909.0,999.0,1185.0,699.0,799.0,699.0,549.0,589.0,579.0,1739.0,509.0,1279.0,779.0,1089.0,459.0,999.0,539.0,879.0,449.0,399.0,599.0,359.0,429.0,374.0,null,339.0,399.0,null,319.0,449.0,269.0,null,294.0,null,269.0,229.0,null,289.0,343.0,399.0,null,299.0,239.0,null,null,null,null,199.0,169.0,null,null,null,null,null,224.0,null,null,null,null,null,null,null,null,null,null,null,null,null,null,159.0,null,null,null,119.0,null,null,null,124.0,null,null,null,null,null,null,null],\"y\":[114.5,95.1,91.9,89.3,81.2,78.6,73.0,69.3,66.1,67.1,75.9,62.3,70.7,61.2,68.8,57.9,66.7,57.2,62.0,51.5,50.7,47.7,42.8,41.6,39.6,47.8,40.4,44.4,43.5,37.1,null,32.9,36.7,31.9,null,29.1,null,null,35.3,33.2,null,29.3,null,31.1,null,31.5,29.5,null,null,27.9,null,null,23.5,null,null,null,null,null,null,null,null,null,null,null,null,null,null,null,null,null,null,null,null,null,null,null,null,null,null,null,null,null,null,null,null,null],\"type\":\"scatter\",\"xaxis\":\"x4\",\"yaxis\":\"y4\"}],                        {\"template\":{\"data\":{\"histogram2dcontour\":[{\"type\":\"histogram2dcontour\",\"colorbar\":{\"outlinewidth\":0,\"ticks\":\"\"},\"colorscale\":[[0.0,\"#0d0887\"],[0.1111111111111111,\"#46039f\"],[0.2222222222222222,\"#7201a8\"],[0.3333333333333333,\"#9c179e\"],[0.4444444444444444,\"#bd3786\"],[0.5555555555555556,\"#d8576b\"],[0.6666666666666666,\"#ed7953\"],[0.7777777777777778,\"#fb9f3a\"],[0.8888888888888888,\"#fdca26\"],[1.0,\"#f0f921\"]]}],\"choropleth\":[{\"type\":\"choropleth\",\"colorbar\":{\"outlinewidth\":0,\"ticks\":\"\"}}],\"histogram2d\":[{\"type\":\"histogram2d\",\"colorbar\":{\"outlinewidth\":0,\"ticks\":\"\"},\"colorscale\":[[0.0,\"#0d0887\"],[0.1111111111111111,\"#46039f\"],[0.2222222222222222,\"#7201a8\"],[0.3333333333333333,\"#9c179e\"],[0.4444444444444444,\"#bd3786\"],[0.5555555555555556,\"#d8576b\"],[0.6666666666666666,\"#ed7953\"],[0.7777777777777778,\"#fb9f3a\"],[0.8888888888888888,\"#fdca26\"],[1.0,\"#f0f921\"]]}],\"heatmap\":[{\"type\":\"heatmap\",\"colorbar\":{\"outlinewidth\":0,\"ticks\":\"\"},\"colorscale\":[[0.0,\"#0d0887\"],[0.1111111111111111,\"#46039f\"],[0.2222222222222222,\"#7201a8\"],[0.3333333333333333,\"#9c179e\"],[0.4444444444444444,\"#bd3786\"],[0.5555555555555556,\"#d8576b\"],[0.6666666666666666,\"#ed7953\"],[0.7777777777777778,\"#fb9f3a\"],[0.8888888888888888,\"#fdca26\"],[1.0,\"#f0f921\"]]}],\"heatmapgl\":[{\"type\":\"heatmapgl\",\"colorbar\":{\"outlinewidth\":0,\"ticks\":\"\"},\"colorscale\":[[0.0,\"#0d0887\"],[0.1111111111111111,\"#46039f\"],[0.2222222222222222,\"#7201a8\"],[0.3333333333333333,\"#9c179e\"],[0.4444444444444444,\"#bd3786\"],[0.5555555555555556,\"#d8576b\"],[0.6666666666666666,\"#ed7953\"],[0.7777777777777778,\"#fb9f3a\"],[0.8888888888888888,\"#fdca26\"],[1.0,\"#f0f921\"]]}],\"contourcarpet\":[{\"type\":\"contourcarpet\",\"colorbar\":{\"outlinewidth\":0,\"ticks\":\"\"}}],\"contour\":[{\"type\":\"contour\",\"colorbar\":{\"outlinewidth\":0,\"ticks\":\"\"},\"colorscale\":[[0.0,\"#0d0887\"],[0.1111111111111111,\"#46039f\"],[0.2222222222222222,\"#7201a8\"],[0.3333333333333333,\"#9c179e\"],[0.4444444444444444,\"#bd3786\"],[0.5555555555555556,\"#d8576b\"],[0.6666666666666666,\"#ed7953\"],[0.7777777777777778,\"#fb9f3a\"],[0.8888888888888888,\"#fdca26\"],[1.0,\"#f0f921\"]]}],\"surface\":[{\"type\":\"surface\",\"colorbar\":{\"outlinewidth\":0,\"ticks\":\"\"},\"colorscale\":[[0.0,\"#0d0887\"],[0.1111111111111111,\"#46039f\"],[0.2222222222222222,\"#7201a8\"],[0.3333333333333333,\"#9c179e\"],[0.4444444444444444,\"#bd3786\"],[0.5555555555555556,\"#d8576b\"],[0.6666666666666666,\"#ed7953\"],[0.7777777777777778,\"#fb9f3a\"],[0.8888888888888888,\"#fdca26\"],[1.0,\"#f0f921\"]]}],\"mesh3d\":[{\"type\":\"mesh3d\",\"colorbar\":{\"outlinewidth\":0,\"ticks\":\"\"}}],\"scatter\":[{\"marker\":{\"line\":{\"color\":\"#283442\"}},\"type\":\"scatter\"}],\"parcoords\":[{\"type\":\"parcoords\",\"line\":{\"colorbar\":{\"outlinewidth\":0,\"ticks\":\"\"}}}],\"scatterpolargl\":[{\"type\":\"scatterpolargl\",\"marker\":{\"colorbar\":{\"outlinewidth\":0,\"ticks\":\"\"}}}],\"bar\":[{\"error_x\":{\"color\":\"#f2f5fa\"},\"error_y\":{\"color\":\"#f2f5fa\"},\"marker\":{\"line\":{\"color\":\"rgb(17,17,17)\",\"width\":0.5},\"pattern\":{\"fillmode\":\"overlay\",\"size\":10,\"solidity\":0.2}},\"type\":\"bar\"}],\"scattergeo\":[{\"type\":\"scattergeo\",\"marker\":{\"colorbar\":{\"outlinewidth\":0,\"ticks\":\"\"}}}],\"scatterpolar\":[{\"type\":\"scatterpolar\",\"marker\":{\"colorbar\":{\"outlinewidth\":0,\"ticks\":\"\"}}}],\"histogram\":[{\"marker\":{\"pattern\":{\"fillmode\":\"overlay\",\"size\":10,\"solidity\":0.2}},\"type\":\"histogram\"}],\"scattergl\":[{\"marker\":{\"line\":{\"color\":\"#283442\"}},\"type\":\"scattergl\"}],\"scatter3d\":[{\"type\":\"scatter3d\",\"line\":{\"colorbar\":{\"outlinewidth\":0,\"ticks\":\"\"}},\"marker\":{\"colorbar\":{\"outlinewidth\":0,\"ticks\":\"\"}}}],\"scattermapbox\":[{\"type\":\"scattermapbox\",\"marker\":{\"colorbar\":{\"outlinewidth\":0,\"ticks\":\"\"}}}],\"scatterternary\":[{\"type\":\"scatterternary\",\"marker\":{\"colorbar\":{\"outlinewidth\":0,\"ticks\":\"\"}}}],\"scattercarpet\":[{\"type\":\"scattercarpet\",\"marker\":{\"colorbar\":{\"outlinewidth\":0,\"ticks\":\"\"}}}],\"carpet\":[{\"aaxis\":{\"endlinecolor\":\"#A2B1C6\",\"gridcolor\":\"#506784\",\"linecolor\":\"#506784\",\"minorgridcolor\":\"#506784\",\"startlinecolor\":\"#A2B1C6\"},\"baxis\":{\"endlinecolor\":\"#A2B1C6\",\"gridcolor\":\"#506784\",\"linecolor\":\"#506784\",\"minorgridcolor\":\"#506784\",\"startlinecolor\":\"#A2B1C6\"},\"type\":\"carpet\"}],\"table\":[{\"cells\":{\"fill\":{\"color\":\"#506784\"},\"line\":{\"color\":\"rgb(17,17,17)\"}},\"header\":{\"fill\":{\"color\":\"#2a3f5f\"},\"line\":{\"color\":\"rgb(17,17,17)\"}},\"type\":\"table\"}],\"barpolar\":[{\"marker\":{\"line\":{\"color\":\"rgb(17,17,17)\",\"width\":0.5},\"pattern\":{\"fillmode\":\"overlay\",\"size\":10,\"solidity\":0.2}},\"type\":\"barpolar\"}],\"pie\":[{\"automargin\":true,\"type\":\"pie\"}]},\"layout\":{\"autotypenumbers\":\"strict\",\"colorway\":[\"#636efa\",\"#EF553B\",\"#00cc96\",\"#ab63fa\",\"#FFA15A\",\"#19d3f3\",\"#FF6692\",\"#B6E880\",\"#FF97FF\",\"#FECB52\"],\"font\":{\"color\":\"#f2f5fa\"},\"hovermode\":\"closest\",\"hoverlabel\":{\"align\":\"left\"},\"paper_bgcolor\":\"rgb(17,17,17)\",\"plot_bgcolor\":\"rgb(17,17,17)\",\"polar\":{\"bgcolor\":\"rgb(17,17,17)\",\"angularaxis\":{\"gridcolor\":\"#506784\",\"linecolor\":\"#506784\",\"ticks\":\"\"},\"radialaxis\":{\"gridcolor\":\"#506784\",\"linecolor\":\"#506784\",\"ticks\":\"\"}},\"ternary\":{\"bgcolor\":\"rgb(17,17,17)\",\"aaxis\":{\"gridcolor\":\"#506784\",\"linecolor\":\"#506784\",\"ticks\":\"\"},\"baxis\":{\"gridcolor\":\"#506784\",\"linecolor\":\"#506784\",\"ticks\":\"\"},\"caxis\":{\"gridcolor\":\"#506784\",\"linecolor\":\"#506784\",\"ticks\":\"\"}},\"coloraxis\":{\"colorbar\":{\"outlinewidth\":0,\"ticks\":\"\"}},\"colorscale\":{\"sequential\":[[0.0,\"#0d0887\"],[0.1111111111111111,\"#46039f\"],[0.2222222222222222,\"#7201a8\"],[0.3333333333333333,\"#9c179e\"],[0.4444444444444444,\"#bd3786\"],[0.5555555555555556,\"#d8576b\"],[0.6666666666666666,\"#ed7953\"],[0.7777777777777778,\"#fb9f3a\"],[0.8888888888888888,\"#fdca26\"],[1.0,\"#f0f921\"]],\"sequentialminus\":[[0.0,\"#0d0887\"],[0.1111111111111111,\"#46039f\"],[0.2222222222222222,\"#7201a8\"],[0.3333333333333333,\"#9c179e\"],[0.4444444444444444,\"#bd3786\"],[0.5555555555555556,\"#d8576b\"],[0.6666666666666666,\"#ed7953\"],[0.7777777777777778,\"#fb9f3a\"],[0.8888888888888888,\"#fdca26\"],[1.0,\"#f0f921\"]],\"diverging\":[[0,\"#8e0152\"],[0.1,\"#c51b7d\"],[0.2,\"#de77ae\"],[0.3,\"#f1b6da\"],[0.4,\"#fde0ef\"],[0.5,\"#f7f7f7\"],[0.6,\"#e6f5d0\"],[0.7,\"#b8e186\"],[0.8,\"#7fbc41\"],[0.9,\"#4d9221\"],[1,\"#276419\"]]},\"xaxis\":{\"gridcolor\":\"#283442\",\"linecolor\":\"#506784\",\"ticks\":\"\",\"title\":{\"standoff\":15},\"zerolinecolor\":\"#283442\",\"automargin\":true,\"zerolinewidth\":2},\"yaxis\":{\"gridcolor\":\"#283442\",\"linecolor\":\"#506784\",\"ticks\":\"\",\"title\":{\"standoff\":15},\"zerolinecolor\":\"#283442\",\"automargin\":true,\"zerolinewidth\":2},\"scene\":{\"xaxis\":{\"backgroundcolor\":\"rgb(17,17,17)\",\"gridcolor\":\"#506784\",\"linecolor\":\"#506784\",\"showbackground\":true,\"ticks\":\"\",\"zerolinecolor\":\"#C8D4E3\",\"gridwidth\":2},\"yaxis\":{\"backgroundcolor\":\"rgb(17,17,17)\",\"gridcolor\":\"#506784\",\"linecolor\":\"#506784\",\"showbackground\":true,\"ticks\":\"\",\"zerolinecolor\":\"#C8D4E3\",\"gridwidth\":2},\"zaxis\":{\"backgroundcolor\":\"rgb(17,17,17)\",\"gridcolor\":\"#506784\",\"linecolor\":\"#506784\",\"showbackground\":true,\"ticks\":\"\",\"zerolinecolor\":\"#C8D4E3\",\"gridwidth\":2}},\"shapedefaults\":{\"line\":{\"color\":\"#f2f5fa\"}},\"annotationdefaults\":{\"arrowcolor\":\"#f2f5fa\",\"arrowhead\":0,\"arrowwidth\":1},\"geo\":{\"bgcolor\":\"rgb(17,17,17)\",\"landcolor\":\"rgb(17,17,17)\",\"subunitcolor\":\"#506784\",\"showland\":true,\"showlakes\":true,\"lakecolor\":\"rgb(17,17,17)\"},\"title\":{\"x\":0.05},\"updatemenudefaults\":{\"bgcolor\":\"#506784\",\"borderwidth\":0},\"sliderdefaults\":{\"bgcolor\":\"#C8D4E3\",\"borderwidth\":1,\"bordercolor\":\"rgb(17,17,17)\",\"tickwidth\":0},\"mapbox\":{\"style\":\"dark\"}}},\"xaxis\":{\"anchor\":\"y\",\"domain\":[0.0,0.45],\"title\":{\"text\":\"Price\"}},\"yaxis\":{\"anchor\":\"x\",\"domain\":[0.625,1.0],\"title\":{\"text\":\"FPS\"}},\"xaxis2\":{\"anchor\":\"y2\",\"domain\":[0.55,1.0]},\"yaxis2\":{\"anchor\":\"x2\",\"domain\":[0.625,1.0],\"matches\":\"y\",\"showticklabels\":false},\"xaxis3\":{\"anchor\":\"y3\",\"domain\":[0.0,0.45]},\"yaxis3\":{\"anchor\":\"x3\",\"domain\":[0.0,0.375]},\"xaxis4\":{\"anchor\":\"y4\",\"domain\":[0.55,1.0]},\"yaxis4\":{\"anchor\":\"x4\",\"domain\":[0.0,0.375],\"matches\":\"y3\",\"showticklabels\":false},\"annotations\":[{\"font\":{\"size\":16},\"showarrow\":false,\"text\":\"1080p Ultra\",\"x\":0.225,\"xanchor\":\"center\",\"xref\":\"paper\",\"y\":1.0,\"yanchor\":\"bottom\",\"yref\":\"paper\"},{\"font\":{\"size\":16},\"showarrow\":false,\"text\":\"1080p Medium\",\"x\":0.775,\"xanchor\":\"center\",\"xref\":\"paper\",\"y\":1.0,\"yanchor\":\"bottom\",\"yref\":\"paper\"},{\"font\":{\"size\":16},\"showarrow\":false,\"text\":\"1440p Ultra\",\"x\":0.225,\"xanchor\":\"center\",\"xref\":\"paper\",\"y\":0.375,\"yanchor\":\"bottom\",\"yref\":\"paper\"},{\"font\":{\"size\":16},\"showarrow\":false,\"text\":\"4K Ultra\",\"x\":0.775,\"xanchor\":\"center\",\"xref\":\"paper\",\"y\":0.375,\"yanchor\":\"bottom\",\"yref\":\"paper\"}],\"title\":{\"text\":\"Scatter plots of price vs resolutions\"}},                        {\"responsive\": true}                    ).then(function(){\n",
       "                            \n",
       "var gd = document.getElementById('6e14cff3-6861-4196-a2fb-4770c334ae3a');\n",
       "var x = new MutationObserver(function (mutations, observer) {{\n",
       "        var display = window.getComputedStyle(gd).display;\n",
       "        if (!display || display === 'none') {{\n",
       "            console.log([gd, 'removed!']);\n",
       "            Plotly.purge(gd);\n",
       "            observer.disconnect();\n",
       "        }}\n",
       "}});\n",
       "\n",
       "// Listen for the removal of the full notebook cells\n",
       "var notebookContainer = gd.closest('#notebook-container');\n",
       "if (notebookContainer) {{\n",
       "    x.observe(notebookContainer, {childList: true});\n",
       "}}\n",
       "\n",
       "// Listen for the clearing of the current output cell\n",
       "var outputEl = gd.closest('.output');\n",
       "if (outputEl) {{\n",
       "    x.observe(outputEl, {childList: true});\n",
       "}}\n",
       "\n",
       "                        })                };                });            </script>        </div>"
      ]
     },
     "metadata": {},
     "output_type": "display_data"
    }
   ],
   "execution_count": 88
  },
  {
   "metadata": {},
   "cell_type": "code",
   "outputs": [],
   "execution_count": null,
   "source": "",
   "id": "2a573e2dbbc6f9f"
  }
 ],
 "metadata": {
  "kernelspec": {
   "display_name": "Python 3",
   "language": "python",
   "name": "python3"
  },
  "language_info": {
   "codemirror_mode": {
    "name": "ipython",
    "version": 2
   },
   "file_extension": ".py",
   "mimetype": "text/x-python",
   "name": "python",
   "nbconvert_exporter": "python",
   "pygments_lexer": "ipython2",
   "version": "2.7.6"
  }
 },
 "nbformat": 4,
 "nbformat_minor": 5
}
